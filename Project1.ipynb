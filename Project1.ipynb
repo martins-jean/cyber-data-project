{
 "cells": [
  {
   "cell_type": "code",
   "execution_count": 70,
   "id": "8db0a99f-4daf-474a-b318-a42707dbd8b3",
   "metadata": {},
   "outputs": [],
   "source": [
    "import pandas as pd"
   ]
  },
  {
   "cell_type": "code",
   "execution_count": 71,
   "id": "87b6a323-8893-4b68-9aee-e9966df2d4d0",
   "metadata": {},
   "outputs": [],
   "source": [
    "breaches = pd.read_csv(\"Balloon Race Data Breaches - LATEST - breaches.csv\")"
   ]
  },
  {
   "cell_type": "code",
   "execution_count": 72,
   "id": "e2c798d0-1744-4f64-abbd-447d67e58443",
   "metadata": {},
   "outputs": [],
   "source": [
    "gdp = pd.read_csv(\"All Countries and Economies GDP (US) 1960-2023.csv\")"
   ]
  },
  {
   "cell_type": "code",
   "execution_count": 73,
   "id": "960b5602-69e6-4430-9da0-2c16b4caca1b",
   "metadata": {},
   "outputs": [
    {
     "name": "stdout",
     "output_type": "stream",
     "text": [
      "                                        organisation alternative name  \\\n",
      "0  visualisation here: https://informationisbeaut...              NaN   \n",
      "1                                               Plex              NaN   \n",
      "2                                            Twitter              NaN   \n",
      "3                                    Shanghai Police              NaN   \n",
      "4                           City of Amagasaki, Japan              NaN   \n",
      "\n",
      "                                        records lost           year     \\\n",
      "0  (use 3m, 4m, 5m or 10m to approximate unknown ...  year story broke   \n",
      "1                                         15,000,000              2022   \n",
      "2                                          5,400,000              2021   \n",
      "3                                        500,000,000              2022   \n",
      "4                                            500,000              2022   \n",
      "\n",
      "       date                                              story  \\\n",
      "0       NaN                                                NaN   \n",
      "1  Aug 2022  Intruders access password data, usernames, and...   \n",
      "2  Dec 2021  Zero day vulnerability allowed a threat actor ...   \n",
      "3  Jul 2022  A database containing records of over a billio...   \n",
      "4  Jun 2022  An unnamed government official lost his bag af...   \n",
      "\n",
      "                                              sector  \\\n",
      "0  web\\nhealthcare\\napp\\nretail\\ngaming\\ntranspor...   \n",
      "1                                               web    \n",
      "2                                                web   \n",
      "3                                          financial   \n",
      "4                                         government   \n",
      "\n",
      "                                              method interesting story  \\\n",
      "0  poor security\\nhacked\\noops!\\nlost device \\nin...               NaN   \n",
      "1                                             hacked               NaN   \n",
      "2                                             hacked               NaN   \n",
      "3                                             hacked               NaN   \n",
      "4                                              oops!               NaN   \n",
      "\n",
      "                                    data sensitivity       displayed records  \\\n",
      "0  1. Just email address/Online information \\n2 S...  =IF(C3>100000000,C3,\")   \n",
      "1                                                  1                     NaN   \n",
      "2                                                  2                     NaN   \n",
      "3                                                  5           \"one billion\"   \n",
      "4                                                  3                     NaN   \n",
      "\n",
      "   Unnamed: 11        source name  \\\n",
      "0          NaN                NaN   \n",
      "1          NaN       Ars technica   \n",
      "2          NaN  Bleeping Computer   \n",
      "3          NaN       The Register   \n",
      "4          NaN                BBC   \n",
      "\n",
      "                                     1st source link 2nd source link     ID  \n",
      "0                                                NaN             NaN    NaN  \n",
      "1  https://arstechnica.com/information-technology...             NaN  418.0  \n",
      "2  https://www.bleepingcomputer.com/news/security...             NaN  419.0  \n",
      "3  https://www.theregister.com/2022/07/05/shangha...             NaN  420.0  \n",
      "4     https://www.bbc.co.uk/news/world-asia-61921222             NaN  421.0  \n"
     ]
    }
   ],
   "source": [
    "print(breaches.head())"
   ]
  },
  {
   "cell_type": "code",
   "execution_count": 74,
   "id": "80d1ce6e-df71-4e92-82f3-d4a21b778ca0",
   "metadata": {},
   "outputs": [
    {
     "name": "stdout",
     "output_type": "stream",
     "text": [
      "                  Country Name Country Code     Indicator Name  \\\n",
      "0                        Aruba          ABW  GDP (current US$)   \n",
      "1  Africa Eastern and Southern          AFE  GDP (current US$)   \n",
      "2                  Afghanistan          AFG  GDP (current US$)   \n",
      "3   Africa Western and Central          AFW  GDP (current US$)   \n",
      "4                       Angola          AGO  GDP (current US$)   \n",
      "\n",
      "   Indicator Code          1960          1961          1962          1963  \\\n",
      "0  NY.GDP.MKTP.CD           NaN           NaN           NaN           NaN   \n",
      "1  NY.GDP.MKTP.CD  2.421063e+10  2.496398e+10  2.707880e+10  3.177575e+10   \n",
      "2  NY.GDP.MKTP.CD           NaN           NaN           NaN           NaN   \n",
      "3  NY.GDP.MKTP.CD  1.190495e+10  1.270788e+10  1.363076e+10  1.446909e+10   \n",
      "4  NY.GDP.MKTP.CD           NaN           NaN           NaN           NaN   \n",
      "\n",
      "           1964          1965  ...          2014          2015          2016  \\\n",
      "0           NaN           NaN  ...  2.790850e+09  2.962907e+09  2.983635e+09   \n",
      "1  3.028579e+10  3.381317e+10  ...  9.787080e+11  8.982780e+11  8.289430e+11   \n",
      "2           NaN           NaN  ...  2.049713e+10  1.913422e+10  1.811657e+10   \n",
      "3  1.580376e+10  1.692109e+10  ...  8.974160e+11  7.717670e+11  6.943610e+11   \n",
      "4           NaN           NaN  ...  1.359670e+11  9.049642e+10  5.276162e+10   \n",
      "\n",
      "           2017          2018          2019          2020          2021  \\\n",
      "0  3.092429e+09  3.276184e+09  3.395799e+09  2.481857e+09  2.929447e+09   \n",
      "1  9.729990e+11  1.012310e+12  1.009720e+12  9.333920e+11  1.085750e+12   \n",
      "2  1.875346e+10  1.805322e+10  1.879944e+10  1.995593e+10  1.426000e+10   \n",
      "3  6.878490e+11  7.704950e+11  8.264840e+11  7.898020e+11  8.493120e+11   \n",
      "4  7.369015e+10  7.945069e+10  7.089796e+10  4.850156e+10  6.650513e+10   \n",
      "\n",
      "           2022          2023  \n",
      "0  3.279344e+09  3.648573e+09  \n",
      "1  1.191420e+12  1.245470e+12  \n",
      "2  1.449724e+10  1.723305e+10  \n",
      "3  8.839740e+11  7.991060e+11  \n",
      "4  1.044000e+11  8.482465e+10  \n",
      "\n",
      "[5 rows x 68 columns]\n"
     ]
    }
   ],
   "source": [
    "print(gdp.head())"
   ]
  },
  {
   "cell_type": "code",
   "execution_count": 75,
   "id": "9a78ba32-6ff0-45af-9c47-55189136a656",
   "metadata": {},
   "outputs": [],
   "source": [
    "breaches = breaches.drop(['alternative name', 'date', 'interesting story', 'displayed records', 'Unnamed: 11', 'source name', '1st source link', '2nd source link'], axis=1)"
   ]
  },
  {
   "cell_type": "code",
   "execution_count": 76,
   "id": "2c8e5421",
   "metadata": {},
   "outputs": [],
   "source": [
    "breaches = breaches.drop(index=0)"
   ]
  },
  {
   "cell_type": "code",
   "execution_count": 77,
   "id": "02b7d7e8",
   "metadata": {},
   "outputs": [
    {
     "name": "stdout",
     "output_type": "stream",
     "text": [
      "               organisation records lost year     \\\n",
      "1                      Plex   15,000,000    2022   \n",
      "2                   Twitter    5,400,000    2021   \n",
      "3           Shanghai Police  500,000,000    2022   \n",
      "4  City of Amagasaki, Japan      500,000    2022   \n",
      "5    Dubai Real Estate Leak      800,000    2022   \n",
      "\n",
      "                                               story      sector      method  \\\n",
      "1  Intruders access password data, usernames, and...        web       hacked   \n",
      "2  Zero day vulnerability allowed a threat actor ...         web      hacked   \n",
      "3  A database containing records of over a billio...   financial      hacked   \n",
      "4  An unnamed government official lost his bag af...  government       oops!   \n",
      "5  Data leak exposes how criminals, officials, an...   financial  inside job   \n",
      "\n",
      "  data sensitivity     ID  \n",
      "1                1  418.0  \n",
      "2                2  419.0  \n",
      "3                5  420.0  \n",
      "4                3  421.0  \n",
      "5                1  417.0  \n"
     ]
    }
   ],
   "source": [
    "print(breaches.loc[:5])"
   ]
  },
  {
   "cell_type": "code",
   "execution_count": 78,
   "id": "ada8a468",
   "metadata": {},
   "outputs": [],
   "source": [
    "breaches = breaches.rename(columns={'sector':'industry'})"
   ]
  },
  {
   "cell_type": "code",
   "execution_count": 79,
   "id": "90e792f9",
   "metadata": {},
   "outputs": [],
   "source": [
    "breaches.columns = breaches.columns.str.strip()"
   ]
  },
  {
   "cell_type": "code",
   "execution_count": 80,
   "id": "b6b52ff5",
   "metadata": {},
   "outputs": [],
   "source": [
    "breaches = breaches[breaches['year'].isin(['2018','2019','2020', '2021', '2022'])]"
   ]
  },
  {
   "cell_type": "code",
   "execution_count": 81,
   "id": "f34430d1",
   "metadata": {},
   "outputs": [
    {
     "name": "stdout",
     "output_type": "stream",
     "text": [
      "                 organisation records lost  year  \\\n",
      "1                        Plex   15,000,000  2022   \n",
      "2                     Twitter    5,400,000  2021   \n",
      "3             Shanghai Police  500,000,000  2022   \n",
      "4    City of Amagasaki, Japan      500,000  2022   \n",
      "5      Dubai Real Estate Leak      800,000  2022   \n",
      "..                        ...          ...   ...   \n",
      "156             Vision Direct       16,300  2018   \n",
      "157       Medicare & Medicaid       93,689  2018   \n",
      "158                  Facebook   29,000,000  2018   \n",
      "159                    Newegg   45,000,000  2018   \n",
      "161                    Apollo  200,000,000  2018   \n",
      "\n",
      "                                                 story    industry  \\\n",
      "1    Intruders access password data, usernames, and...        web    \n",
      "2    Zero day vulnerability allowed a threat actor ...         web   \n",
      "3    A database containing records of over a billio...   financial   \n",
      "4    An unnamed government official lost his bag af...  government   \n",
      "5    Data leak exposes how criminals, officials, an...   financial   \n",
      "..                                                 ...         ...   \n",
      "156  A 5-day data breach saw attackers steal person...      retail   \n",
      "157   \"Sensitive\" information on applicants for US ...     health    \n",
      "158  The biggest hack in Facebook's history to date...         web   \n",
      "159  Hackers injected 15 lines of card skimming cod...      retail   \n",
      "161  Data scraping company left a database exposed ...        tech   \n",
      "\n",
      "            method data sensitivity     ID  \n",
      "1           hacked                1  418.0  \n",
      "2           hacked                2  419.0  \n",
      "3           hacked                5  420.0  \n",
      "4            oops!                3  421.0  \n",
      "5       inside job                1  417.0  \n",
      "..             ...              ...    ...  \n",
      "156         hacked                4  263.0  \n",
      "157         hacked                2  262.0  \n",
      "158         hacked                2  261.0  \n",
      "159         hacked                3  260.0  \n",
      "161  poor security                1  258.0  \n",
      "\n",
      "[160 rows x 8 columns]\n"
     ]
    }
   ],
   "source": [
    "print(breaches)"
   ]
  },
  {
   "cell_type": "code",
   "execution_count": 82,
   "id": "540e6c1b",
   "metadata": {},
   "outputs": [],
   "source": [
    "breaches['industry'] = breaches['industry'].replace(['finance', 'financial'], 'financial services')"
   ]
  },
  {
   "cell_type": "code",
   "execution_count": 83,
   "id": "99a77c00",
   "metadata": {},
   "outputs": [
    {
     "name": "stdout",
     "output_type": "stream",
     "text": [
      "                 organisation records lost  year  \\\n",
      "1                        Plex   15,000,000  2022   \n",
      "2                     Twitter    5,400,000  2021   \n",
      "3             Shanghai Police  500,000,000  2022   \n",
      "4    City of Amagasaki, Japan      500,000  2022   \n",
      "5      Dubai Real Estate Leak      800,000  2022   \n",
      "..                        ...          ...   ...   \n",
      "156             Vision Direct       16,300  2018   \n",
      "157       Medicare & Medicaid       93,689  2018   \n",
      "158                  Facebook   29,000,000  2018   \n",
      "159                    Newegg   45,000,000  2018   \n",
      "161                    Apollo  200,000,000  2018   \n",
      "\n",
      "                                                 story            industry  \\\n",
      "1    Intruders access password data, usernames, and...                web    \n",
      "2    Zero day vulnerability allowed a threat actor ...                 web   \n",
      "3    A database containing records of over a billio...  financial services   \n",
      "4    An unnamed government official lost his bag af...          government   \n",
      "5    Data leak exposes how criminals, officials, an...  financial services   \n",
      "..                                                 ...                 ...   \n",
      "156  A 5-day data breach saw attackers steal person...              retail   \n",
      "157   \"Sensitive\" information on applicants for US ...             health    \n",
      "158  The biggest hack in Facebook's history to date...                 web   \n",
      "159  Hackers injected 15 lines of card skimming cod...              retail   \n",
      "161  Data scraping company left a database exposed ...                tech   \n",
      "\n",
      "            method data sensitivity     ID  \n",
      "1           hacked                1  418.0  \n",
      "2           hacked                2  419.0  \n",
      "3           hacked                5  420.0  \n",
      "4            oops!                3  421.0  \n",
      "5       inside job                1  417.0  \n",
      "..             ...              ...    ...  \n",
      "156         hacked                4  263.0  \n",
      "157         hacked                2  262.0  \n",
      "158         hacked                2  261.0  \n",
      "159         hacked                3  260.0  \n",
      "161  poor security                1  258.0  \n",
      "\n",
      "[160 rows x 8 columns]\n"
     ]
    }
   ],
   "source": [
    "print(breaches)"
   ]
  },
  {
   "cell_type": "code",
   "execution_count": 84,
   "id": "28e99cf3",
   "metadata": {},
   "outputs": [],
   "source": [
    "breaches['industry'] = breaches['industry'].replace(['tech', 'web, gaming', 'web, military', 'tech, app', 'web, tech', 'tech, web', 'tech, retail'], 'technology')"
   ]
  },
  {
   "cell_type": "code",
   "execution_count": 85,
   "id": "d46fc8fa",
   "metadata": {},
   "outputs": [],
   "source": [
    "breaches = breaches[~breaches['industry'].isin(['web', 'web '])]"
   ]
  },
  {
   "cell_type": "code",
   "execution_count": 86,
   "id": "776cb5bb",
   "metadata": {},
   "outputs": [
    {
     "name": "stdout",
     "output_type": "stream",
     "text": [
      "3      financial services\n",
      "4              government\n",
      "5      financial services\n",
      "6              technology\n",
      "7              technology\n",
      "              ...        \n",
      "155              telecoms\n",
      "156                retail\n",
      "157               health \n",
      "159                retail\n",
      "161            technology\n",
      "Name: industry, Length: 119, dtype: object\n"
     ]
    }
   ],
   "source": [
    "print(breaches['industry'])"
   ]
  },
  {
   "cell_type": "code",
   "execution_count": 87,
   "id": "8d2af7a3",
   "metadata": {},
   "outputs": [
    {
     "name": "stdout",
     "output_type": "stream",
     "text": [
      "                 organisation records lost  year  \\\n",
      "3             Shanghai Police  500,000,000  2022   \n",
      "4    City of Amagasaki, Japan      500,000  2022   \n",
      "5      Dubai Real Estate Leak      800,000  2022   \n",
      "6                      Heroku       50,000  2022   \n",
      "7                   Mailchimp      106,586  2022   \n",
      "..                        ...          ...   ...   \n",
      "155                SKY Brasil   32,000,000  2018   \n",
      "156             Vision Direct       16,300  2018   \n",
      "157       Medicare & Medicaid       93,689  2018   \n",
      "159                    Newegg   45,000,000  2018   \n",
      "161                    Apollo  200,000,000  2018   \n",
      "\n",
      "                                                 story            industry  \\\n",
      "3    A database containing records of over a billio...  financial services   \n",
      "4    An unnamed government official lost his bag af...          government   \n",
      "5    Data leak exposes how criminals, officials, an...  financial services   \n",
      "6    A compromised token was used by attackers to e...          technology   \n",
      "7    Hackers gained access to internal customer sup...          technology   \n",
      "..                                                 ...                 ...   \n",
      "155  Poorly configured servers exposed customer det...            telecoms   \n",
      "156  A 5-day data breach saw attackers steal person...              retail   \n",
      "157   \"Sensitive\" information on applicants for US ...             health    \n",
      "159  Hackers injected 15 lines of card skimming cod...              retail   \n",
      "161  Data scraping company left a database exposed ...          technology   \n",
      "\n",
      "            method data sensitivity     ID  \n",
      "3           hacked                5  420.0  \n",
      "4            oops!                3  421.0  \n",
      "5       inside job                1  417.0  \n",
      "6           hacked                2  416.0  \n",
      "7           hacked                1  415.0  \n",
      "..             ...              ...    ...  \n",
      "155  poor security                1  264.0  \n",
      "156         hacked                4  263.0  \n",
      "157         hacked                2  262.0  \n",
      "159         hacked                3  260.0  \n",
      "161  poor security                1  258.0  \n",
      "\n",
      "[119 rows x 8 columns]\n"
     ]
    }
   ],
   "source": [
    "print(breaches)"
   ]
  },
  {
   "cell_type": "code",
   "execution_count": 91,
   "id": "b2ae3453",
   "metadata": {},
   "outputs": [],
   "source": [
    "breaches['industry'] = breaches['industry'].replace(['health', 'health ', 'misc, health', 'tech, health', 'military, health'], 'healthcare')"
   ]
  },
  {
   "cell_type": "code",
   "execution_count": 92,
   "id": "8a581b97",
   "metadata": {},
   "outputs": [
    {
     "name": "stdout",
     "output_type": "stream",
     "text": [
      "['financial services' 'government' 'technology' 'retail' 'NGO' 'misc'\n",
      " 'transport' 'legal' 'gaming' 'telecoms' 'app' 'healthcare' 'academic']\n"
     ]
    }
   ],
   "source": [
    "print(breaches['industry'].unique())"
   ]
  },
  {
   "cell_type": "code",
   "execution_count": 93,
   "id": "05158c0b",
   "metadata": {},
   "outputs": [],
   "source": [
    "breaches = breaches[breaches['industry'].isin(['financial services', 'technology', 'healthcare'])]"
   ]
  },
  {
   "cell_type": "code",
   "execution_count": 94,
   "id": "6a19bbf3",
   "metadata": {},
   "outputs": [
    {
     "name": "stdout",
     "output_type": "stream",
     "text": [
      "['financial services' 'technology' 'healthcare']\n"
     ]
    }
   ],
   "source": [
    "print(breaches['industry'].unique())"
   ]
  },
  {
   "cell_type": "code",
   "execution_count": 95,
   "id": "ad6b6e68",
   "metadata": {},
   "outputs": [
    {
     "name": "stdout",
     "output_type": "stream",
     "text": [
      "               organisation records lost  year  \\\n",
      "3           Shanghai Police  500,000,000  2022   \n",
      "5    Dubai Real Estate Leak      800,000  2022   \n",
      "6                    Heroku       50,000  2022   \n",
      "7                 Mailchimp      106,586  2022   \n",
      "8                   PayHere    1,580,249  2022   \n",
      "14                 LINE Pay      133,000  2021   \n",
      "15                Robinhood    5,000,937  2021   \n",
      "18                     Acer    3,000,000  2021   \n",
      "20                   Nvidia      100,000  2021   \n",
      "21                     Okta      100,000  2021   \n",
      "42                  Peloton    3,000,000  2021   \n",
      "43            Digital Ocean   10,000,000  2021   \n",
      "45                 Ubiquiti   16,000,000  2021   \n",
      "46             Meet Mindful    2,240,000  2021   \n",
      "47          Experian Brazil  220,000,000  2021   \n",
      "48                      Gab    4,000,000  2021   \n",
      "50                 Facebook  533,000,000  2021   \n",
      "51                   Ledger      270,000  2020   \n",
      "53       The Hospital Group    1,000,000  2020   \n",
      "58                 GEDmatch    1,400,000  2020   \n",
      "61                 Cense AI    2,500,000  2020   \n",
      "78         Desjardins Group    4,200,000  2019   \n",
      "80        Quest Diagnostics   20,000,000  2019   \n",
      "87               Vårdguiden    2,700,000  2019   \n",
      "105                Coinmama      450,000  2019   \n",
      "110                    Blur    2,400,000  2019   \n",
      "114             Capital One  100,000,000  2019   \n",
      "115                 Suprema   27,800,000  2019   \n",
      "119                 OxyData  380,000,000  2019   \n",
      "120               Click2Gov      300,000  2018   \n",
      "121              SingHealth    1,500,000  2018   \n",
      "122           GovPayNow.com   14,000,000  2018   \n",
      "139       Helse Sør-Øst RHF    3,000,000  2018   \n",
      "148                 Twitter  330,000,000  2018   \n",
      "153                   Dell       100,000  2018   \n",
      "157     Medicare & Medicaid       93,689  2018   \n",
      "161                  Apollo  200,000,000  2018   \n",
      "\n",
      "                                                 story            industry  \\\n",
      "3    A database containing records of over a billio...  financial services   \n",
      "5    Data leak exposes how criminals, officials, an...  financial services   \n",
      "6    A compromised token was used by attackers to e...          technology   \n",
      "7    Hackers gained access to internal customer sup...          technology   \n",
      "8    Sri Lankan payment gateway PayHere suffered a ...  financial services   \n",
      "14                                                 NaN  financial services   \n",
      "15   a malicious hacker had socially engineered a c...  financial services   \n",
      "18                                                 NaN          technology   \n",
      "20                                                 NaN          technology   \n",
      "21        Identity and access management provider Okta          technology   \n",
      "42                                                 NaN          technology   \n",
      "43                                                 NaN          technology   \n",
      "45                Unknown amount of user data breached          technology   \n",
      "46   Dating site user data includes real names, pho...          technology   \n",
      "47                                        Details hazy  financial services   \n",
      "48   Over 70GB of data from the far-right social me...          technology   \n",
      "50   Phone numbers, full names, locations, email ad...          technology   \n",
      "51   A threat actor has leaked the stolen email and...  financial services   \n",
      "53   Hackers compromised the plastic surgery firm a...          healthcare   \n",
      "58   DNA data on up to 1.4m users of this geneaolog...          healthcare   \n",
      "61   Medical records from an artificial intelligenc...          healthcare   \n",
      "78   An employee of the Canadian financial firm lea...  financial services   \n",
      "80   For an 8 month period, a hacker group stole pe...          healthcare   \n",
      "87   170,000 hours of sensitive calls to Sweden's h...          healthcare   \n",
      "105  Part of the theft of 127 million online accoun...  financial services   \n",
      "110  A server belonging to the password manager ser...          technology   \n",
      "114  The massive data breach included personal info...  financial services   \n",
      "115  A biometric security company stored unencrypte...          technology   \n",
      "119  Information compiled by a data aggregation fir...          technology   \n",
      "120  Vulnerabilities in government payment software...  financial services   \n",
      "121  Hackers stole personal details of 1.5 million ...          healthcare   \n",
      "122  A company used by US government agencies to ac...  financial services   \n",
      "139  Patient records of more than half of Norway's ...          healthcare   \n",
      "148  A glitch caused some passwords to be stored in...          technology   \n",
      "153  Dell detected and disrupted unauthorized attem...          technology   \n",
      "157   \"Sensitive\" information on applicants for US ...          healthcare   \n",
      "161  Data scraping company left a database exposed ...          technology   \n",
      "\n",
      "             method data sensitivity     ID  \n",
      "3            hacked                5  420.0  \n",
      "5        inside job                1  417.0  \n",
      "6            hacked                2  416.0  \n",
      "7            hacked                1  415.0  \n",
      "8            hacked                3  414.0  \n",
      "14   poor security                 2  408.0  \n",
      "15           hacked                2  407.0  \n",
      "18           hacked                1  404.0  \n",
      "20           hacked                2  401.0  \n",
      "21           hacked                1  399.0  \n",
      "42   poor security                 2  379.0  \n",
      "43   poor security               NaN  378.0  \n",
      "45           hacked                2  376.0  \n",
      "46           hacked                4  375.0  \n",
      "47           hacked                2  374.0  \n",
      "48           hacked                3  373.0  \n",
      "50           hacked                1  371.0  \n",
      "51           hacked                2  370.0  \n",
      "53           hacked                4  368.0  \n",
      "58           hacked                5  363.0  \n",
      "61    poor security                4  360.0  \n",
      "78       inside job                2  343.0  \n",
      "80    poor security                4  341.0  \n",
      "87    poor security                5  333.0  \n",
      "105          hacked                1  315.0  \n",
      "110           oops!                1  310.0  \n",
      "114          hacked                3  306.0  \n",
      "115   poor security                5  305.0  \n",
      "119   poor security                2  300.0  \n",
      "120          hacked                3  299.0  \n",
      "121          hacked                4  298.0  \n",
      "122   poor security                2  297.0  \n",
      "139          hacked                4  280.0  \n",
      "148   poor security                1  271.0  \n",
      "153          hacked                1  266.0  \n",
      "157          hacked                2  262.0  \n",
      "161   poor security                1  258.0  \n"
     ]
    }
   ],
   "source": [
    "print(breaches)"
   ]
  },
  {
   "cell_type": "code",
   "execution_count": 96,
   "id": "ef0de498",
   "metadata": {},
   "outputs": [],
   "source": [
    "pd.set_option('display.width', 200)\n",
    "pd.set_option('display.max_columns', None)"
   ]
  },
  {
   "cell_type": "code",
   "execution_count": 97,
   "id": "7e73b7aa",
   "metadata": {},
   "outputs": [
    {
     "name": "stdout",
     "output_type": "stream",
     "text": [
      "               organisation records lost  year                                              story            industry          method data sensitivity     ID\n",
      "3           Shanghai Police  500,000,000  2022  A database containing records of over a billio...  financial services          hacked                5  420.0\n",
      "5    Dubai Real Estate Leak      800,000  2022  Data leak exposes how criminals, officials, an...  financial services      inside job                1  417.0\n",
      "6                    Heroku       50,000  2022  A compromised token was used by attackers to e...          technology          hacked                2  416.0\n",
      "7                 Mailchimp      106,586  2022  Hackers gained access to internal customer sup...          technology          hacked                1  415.0\n",
      "8                   PayHere    1,580,249  2022  Sri Lankan payment gateway PayHere suffered a ...  financial services          hacked                3  414.0\n",
      "14                 LINE Pay      133,000  2021                                                NaN  financial services  poor security                 2  408.0\n",
      "15                Robinhood    5,000,937  2021  a malicious hacker had socially engineered a c...  financial services          hacked                2  407.0\n",
      "18                     Acer    3,000,000  2021                                                NaN          technology          hacked                1  404.0\n",
      "20                   Nvidia      100,000  2021                                                NaN          technology          hacked                2  401.0\n",
      "21                     Okta      100,000  2021       Identity and access management provider Okta          technology          hacked                1  399.0\n",
      "42                  Peloton    3,000,000  2021                                                NaN          technology  poor security                 2  379.0\n",
      "43            Digital Ocean   10,000,000  2021                                                NaN          technology  poor security               NaN  378.0\n",
      "45                 Ubiquiti   16,000,000  2021               Unknown amount of user data breached          technology          hacked                2  376.0\n",
      "46             Meet Mindful    2,240,000  2021  Dating site user data includes real names, pho...          technology          hacked                4  375.0\n",
      "47          Experian Brazil  220,000,000  2021                                       Details hazy  financial services          hacked                2  374.0\n",
      "48                      Gab    4,000,000  2021  Over 70GB of data from the far-right social me...          technology          hacked                3  373.0\n",
      "50                 Facebook  533,000,000  2021  Phone numbers, full names, locations, email ad...          technology          hacked                1  371.0\n",
      "51                   Ledger      270,000  2020  A threat actor has leaked the stolen email and...  financial services          hacked                2  370.0\n",
      "53       The Hospital Group    1,000,000  2020  Hackers compromised the plastic surgery firm a...          healthcare          hacked                4  368.0\n",
      "58                 GEDmatch    1,400,000  2020  DNA data on up to 1.4m users of this geneaolog...          healthcare          hacked                5  363.0\n",
      "61                 Cense AI    2,500,000  2020  Medical records from an artificial intelligenc...          healthcare   poor security                4  360.0\n",
      "78         Desjardins Group    4,200,000  2019  An employee of the Canadian financial firm lea...  financial services      inside job                2  343.0\n",
      "80        Quest Diagnostics   20,000,000  2019  For an 8 month period, a hacker group stole pe...          healthcare   poor security                4  341.0\n",
      "87               Vårdguiden    2,700,000  2019  170,000 hours of sensitive calls to Sweden's h...          healthcare   poor security                5  333.0\n",
      "105                Coinmama      450,000  2019  Part of the theft of 127 million online accoun...  financial services          hacked                1  315.0\n",
      "110                    Blur    2,400,000  2019  A server belonging to the password manager ser...          technology           oops!                1  310.0\n",
      "114             Capital One  100,000,000  2019  The massive data breach included personal info...  financial services          hacked                3  306.0\n",
      "115                 Suprema   27,800,000  2019  A biometric security company stored unencrypte...          technology   poor security                5  305.0\n",
      "119                 OxyData  380,000,000  2019  Information compiled by a data aggregation fir...          technology   poor security                2  300.0\n",
      "120               Click2Gov      300,000  2018  Vulnerabilities in government payment software...  financial services          hacked                3  299.0\n",
      "121              SingHealth    1,500,000  2018  Hackers stole personal details of 1.5 million ...          healthcare          hacked                4  298.0\n",
      "122           GovPayNow.com   14,000,000  2018  A company used by US government agencies to ac...  financial services   poor security                2  297.0\n",
      "139       Helse Sør-Øst RHF    3,000,000  2018  Patient records of more than half of Norway's ...          healthcare          hacked                4  280.0\n",
      "148                 Twitter  330,000,000  2018  A glitch caused some passwords to be stored in...          technology   poor security                1  271.0\n",
      "153                   Dell       100,000  2018  Dell detected and disrupted unauthorized attem...          technology          hacked                1  266.0\n",
      "157     Medicare & Medicaid       93,689  2018   \"Sensitive\" information on applicants for US ...          healthcare          hacked                2  262.0\n",
      "161                  Apollo  200,000,000  2018  Data scraping company left a database exposed ...          technology   poor security                1  258.0\n"
     ]
    }
   ],
   "source": [
    "print(breaches)"
   ]
  },
  {
   "cell_type": "code",
   "execution_count": 98,
   "id": "8dc47a6e",
   "metadata": {},
   "outputs": [
    {
     "name": "stdout",
     "output_type": "stream",
     "text": [
      "                    Country Name Country Code     Indicator Name  Indicator Code          1960          1961          1962          1963          1964          1965          1966          1967  \\\n",
      "0                          Aruba          ABW  GDP (current US$)  NY.GDP.MKTP.CD           NaN           NaN           NaN           NaN           NaN           NaN           NaN           NaN   \n",
      "1    Africa Eastern and Southern          AFE  GDP (current US$)  NY.GDP.MKTP.CD  2.421063e+10  2.496398e+10  2.707880e+10  3.177575e+10  3.028579e+10  3.381317e+10  3.693497e+10  3.845217e+10   \n",
      "2                    Afghanistan          AFG  GDP (current US$)  NY.GDP.MKTP.CD           NaN           NaN           NaN           NaN           NaN           NaN           NaN           NaN   \n",
      "3     Africa Western and Central          AFW  GDP (current US$)  NY.GDP.MKTP.CD  1.190495e+10  1.270788e+10  1.363076e+10  1.446909e+10  1.580376e+10  1.692109e+10  1.803417e+10  1.649375e+10   \n",
      "4                         Angola          AGO  GDP (current US$)  NY.GDP.MKTP.CD           NaN           NaN           NaN           NaN           NaN           NaN           NaN           NaN   \n",
      "..                           ...          ...                ...             ...           ...           ...           ...           ...           ...           ...           ...           ...   \n",
      "261                       Kosovo          XKX  GDP (current US$)  NY.GDP.MKTP.CD           NaN           NaN           NaN           NaN           NaN           NaN           NaN           NaN   \n",
      "262                  Yemen, Rep.          YEM  GDP (current US$)  NY.GDP.MKTP.CD           NaN           NaN           NaN           NaN           NaN           NaN           NaN           NaN   \n",
      "263                 South Africa          ZAF  GDP (current US$)  NY.GDP.MKTP.CD  8.748597e+09  9.225996e+09  9.813996e+09  1.085420e+10  1.195600e+10  1.306899e+10  1.421139e+10  1.582139e+10   \n",
      "264                       Zambia          ZMB  GDP (current US$)  NY.GDP.MKTP.CD  6.987397e+08  6.823597e+08  6.792797e+08  7.043397e+08  8.226397e+08  1.061200e+09  1.239000e+09  1.340639e+09   \n",
      "265                     Zimbabwe          ZWE  GDP (current US$)  NY.GDP.MKTP.CD  1.052990e+09  1.096647e+09  1.117602e+09  1.159512e+09  1.217138e+09  1.311436e+09  1.281750e+09  1.397002e+09   \n",
      "\n",
      "             1968          1969          1970          1971          1972          1973          1974          1975          1976          1977          1978          1979          1980  \\\n",
      "0             NaN           NaN           NaN           NaN           NaN           NaN           NaN           NaN           NaN           NaN           NaN           NaN           NaN   \n",
      "1    4.175072e+10  4.705830e+10  4.760373e+10  5.219940e+10  5.673753e+10  7.309845e+10  8.955421e+10  9.531509e+10  9.602595e+10  1.092310e+11  1.241090e+11  1.421300e+11  1.785090e+11   \n",
      "2             NaN           NaN           NaN           NaN           NaN           NaN           NaN           NaN           NaN           NaN           NaN           NaN           NaN   \n",
      "3    1.702281e+10  1.930143e+10  2.669726e+10  2.449709e+10  2.948979e+10  3.689109e+10  4.968784e+10  5.728083e+10  6.838641e+10  7.179039e+10  7.877906e+10  9.668227e+10  1.205010e+11   \n",
      "4             NaN           NaN           NaN           NaN           NaN           NaN           NaN           NaN           NaN           NaN           NaN           NaN  5.930503e+09   \n",
      "..            ...           ...           ...           ...           ...           ...           ...           ...           ...           ...           ...           ...           ...   \n",
      "261           NaN           NaN           NaN           NaN           NaN           NaN           NaN           NaN           NaN           NaN           NaN           NaN           NaN   \n",
      "262           NaN           NaN           NaN           NaN           NaN           NaN           NaN           NaN           NaN           NaN           NaN           NaN           NaN   \n",
      "263  1.712479e+10  1.925699e+10  2.121839e+10  2.341108e+10  2.451592e+10  3.326277e+10  4.138919e+10  4.290691e+10  4.115046e+10  4.532841e+10  5.160741e+10  6.303866e+10  8.941186e+10   \n",
      "264  1.573739e+09  1.926399e+09  1.788779e+09  1.653259e+09  1.872417e+09  2.434255e+09  2.910981e+09  2.442672e+09  2.742859e+09  2.515297e+09  2.811032e+09  3.353445e+09  3.884531e+09   \n",
      "265  1.479600e+09  1.747999e+09  1.884206e+09  2.178716e+09  2.677729e+09  3.309354e+09  3.982161e+09  4.371301e+09  4.318372e+09  4.364382e+09  4.351600e+09  5.177459e+09  6.678868e+09   \n",
      "\n",
      "             1981          1982          1983          1984          1985          1986          1987          1988          1989          1990          1991          1992          1993  \\\n",
      "0             NaN           NaN           NaN           NaN           NaN  4.055866e+08  4.877095e+08  5.966480e+08  6.955307e+08  7.648045e+08  8.720670e+08  9.586592e+08  1.083240e+09   \n",
      "1    1.851630e+11  1.784050e+11  1.858230e+11  1.701000e+11  1.493980e+11  1.606380e+11  1.902750e+11  2.074700e+11  2.207120e+11  2.565120e+11  2.764940e+11  2.412760e+11  2.400960e+11   \n",
      "2             NaN           NaN           NaN           NaN           NaN           NaN           NaN           NaN           NaN           NaN           NaN           NaN           NaN   \n",
      "3    2.169110e+11  1.959180e+11  1.512230e+11  1.312180e+11  1.378030e+11  1.092370e+11  1.122950e+11  1.112270e+11  1.039340e+11  1.237110e+11  1.299420e+11  1.245990e+11  1.297330e+11   \n",
      "4    5.550483e+09  5.550483e+09  5.784342e+09  6.131475e+09  7.554065e+09  7.072536e+09  8.084412e+09  8.769837e+09  1.020178e+10  1.122952e+10  1.060378e+10  8.307811e+09  5.768720e+09   \n",
      "..            ...           ...           ...           ...           ...           ...           ...           ...           ...           ...           ...           ...           ...   \n",
      "261           NaN           NaN           NaN           NaN           NaN           NaN           NaN           NaN           NaN           NaN           NaN           NaN           NaN   \n",
      "262           NaN           NaN           NaN           NaN           NaN           NaN           NaN           NaN           NaN  1.264382e+10  1.466545e+10  1.795937e+10  2.173680e+10   \n",
      "263  9.314147e+10  8.590406e+10  9.620411e+10  8.487016e+10  6.445938e+10  7.335477e+10  9.653576e+10  1.039770e+11  1.080560e+11  1.260480e+11  1.352040e+11  1.469560e+11  1.471950e+11   \n",
      "264  4.008126e+09  3.871117e+09  3.321048e+09  2.719519e+09  2.252454e+09  1.664414e+09  2.265251e+09  3.728878e+09  3.994673e+09  3.288382e+09  3.376807e+09  3.182811e+09  3.273508e+09   \n",
      "265  8.011374e+09  8.539701e+09  7.764067e+09  6.352126e+09  5.637259e+09  6.217524e+09  6.741215e+09  7.814784e+09  8.286323e+09  8.783817e+09  8.641482e+09  6.751472e+09  6.563813e+09   \n",
      "\n",
      "             1994          1995          1996          1997          1998          1999          2000          2001          2002          2003          2004          2005          2006  \\\n",
      "0    1.245810e+09  1.320670e+09  1.379888e+09  1.531844e+09  1.665363e+09  1.722905e+09  1.873453e+09  1.896457e+09  1.961844e+09  2.044112e+09  2.254831e+09  2.360017e+09  2.469783e+09   \n",
      "1    2.435710e+11  2.734330e+11  2.735310e+11  2.883780e+11  2.688330e+11  2.654290e+11  2.872020e+11  2.609920e+11  2.678150e+11  3.557160e+11  4.426960e+11  5.166610e+11  5.802410e+11   \n",
      "2             NaN           NaN           NaN           NaN           NaN           NaN  3.521418e+09  2.813572e+09  3.825701e+09  4.520947e+09  5.224897e+09  6.203257e+09  6.971758e+09   \n",
      "3    1.347770e+11  2.071770e+11  2.626010e+11  2.757420e+11  2.961520e+11  1.394680e+11  1.421400e+11  1.500580e+11  1.793900e+11  2.077550e+11  2.569080e+11  3.133280e+11  3.981400e+11   \n",
      "4    4.438321e+09  5.538749e+09  7.526447e+09  7.648377e+09  6.506230e+09  6.152923e+09  9.129595e+09  8.936079e+09  1.528559e+10  1.781270e+10  2.355206e+10  3.697090e+10  5.238103e+10   \n",
      "..            ...           ...           ...           ...           ...           ...           ...           ...           ...           ...           ...           ...           ...   \n",
      "261           NaN           NaN           NaN           NaN           NaN           NaN           NaN           NaN           NaN           NaN           NaN           NaN           NaN   \n",
      "262  2.801948e+10  1.279635e+10  6.496164e+09  6.838299e+09  6.322176e+09  7.639325e+09  9.679317e+09  9.852991e+09  1.069343e+10  1.177753e+10  1.386763e+10  1.673157e+10  1.906314e+10   \n",
      "263  1.535130e+11  1.717360e+11  1.632350e+11  1.689780e+11  1.529830e+11  1.515170e+11  1.517530e+11  1.354300e+11  1.290880e+11  1.970190e+11  2.558070e+11  2.888670e+11  3.038590e+11   \n",
      "264  3.656808e+09  3.806983e+09  3.597221e+09  4.303288e+09  3.537742e+09  3.404285e+09  3.600632e+09  4.094441e+09  4.193850e+09  4.901870e+09  6.221110e+09  8.331870e+09  1.275686e+10   \n",
      "265  6.890675e+09  7.111271e+09  8.553147e+09  8.529572e+09  6.401968e+09  6.858013e+09  6.689958e+09  6.777385e+09  6.342116e+09  5.727592e+09  5.805598e+09  5.755215e+09  5.443896e+09   \n",
      "\n",
      "             2007          2008          2009          2010          2011          2012          2013          2014          2015          2016          2017          2018          2019  \\\n",
      "0    2.677641e+09  2.843025e+09  2.553793e+09  2.453597e+09  2.637859e+09  2.615208e+09  2.727850e+09  2.790850e+09  2.962907e+09  2.983635e+09  3.092429e+09  3.276184e+09  3.395799e+09   \n",
      "1    6.655990e+11  7.135020e+11  7.154850e+11  8.494100e+11  9.454390e+11  9.529990e+11  9.623950e+11  9.787080e+11  8.982780e+11  8.289430e+11  9.729990e+11  1.012310e+12  1.009720e+12   \n",
      "2    9.747886e+09  1.010930e+10  1.241615e+10  1.585667e+10  1.780510e+10  1.990733e+10  2.014642e+10  2.049713e+10  1.913422e+10  1.811657e+10  1.875346e+10  1.805322e+10  1.879944e+10   \n",
      "3    4.668840e+11  5.693220e+11  5.099180e+11  6.001530e+11  6.838880e+11  7.399380e+11  8.369370e+11  8.974160e+11  7.717670e+11  6.943610e+11  6.878490e+11  7.704950e+11  8.264840e+11   \n",
      "4    6.526642e+10  8.853867e+10  7.030720e+10  8.379947e+10  1.117900e+11  1.280530e+11  1.323390e+11  1.359670e+11  9.049642e+10  5.276162e+10  7.369015e+10  7.945069e+10  7.089796e+10   \n",
      "..            ...           ...           ...           ...           ...           ...           ...           ...           ...           ...           ...           ...           ...   \n",
      "261           NaN  5.181777e+09  5.015895e+09  5.343951e+09  6.341614e+09  6.163484e+09  6.735329e+09  7.074395e+09  6.295848e+09  6.682677e+09  7.180765e+09  7.878760e+09  7.899738e+09   \n",
      "262  2.165053e+10  2.691086e+10  2.513028e+10  3.090675e+10  3.272642e+10  3.540133e+10  4.041523e+10  4.322859e+10  4.244449e+10  3.131782e+10  2.684223e+10  2.160616e+10           NaN   \n",
      "263  3.330770e+11  3.161310e+11  3.297540e+11  4.173640e+11  4.581990e+11  4.344010e+11  4.008860e+11  3.811990e+11  3.467100e+11  3.235860e+11  3.814490e+11  4.052610e+11  3.893300e+11   \n",
      "264  1.405696e+10  1.791086e+10  1.532834e+10  2.026556e+10  2.345952e+10  2.550306e+10  2.803724e+10  2.714102e+10  2.125122e+10  2.095841e+10  2.587360e+10  2.631151e+10  2.330867e+10   \n",
      "265  5.291950e+09  4.415703e+09  9.665793e+09  1.204166e+10  1.410192e+10  1.711485e+10  1.909102e+10  1.949552e+10  1.996312e+10  2.054868e+10  5.107466e+10  3.415607e+10  2.571741e+10   \n",
      "\n",
      "             2020          2021          2022          2023  \n",
      "0    2.481857e+09  2.929447e+09  3.279344e+09  3.648573e+09  \n",
      "1    9.333920e+11  1.085750e+12  1.191420e+12  1.245470e+12  \n",
      "2    1.995593e+10  1.426000e+10  1.449724e+10  1.723305e+10  \n",
      "3    7.898020e+11  8.493120e+11  8.839740e+11  7.991060e+11  \n",
      "4    4.850156e+10  6.650513e+10  1.044000e+11  8.482465e+10  \n",
      "..            ...           ...           ...           ...  \n",
      "261  7.717145e+09  9.413404e+09  9.354903e+09  1.046822e+10  \n",
      "262           NaN           NaN           NaN           NaN  \n",
      "263  3.379750e+11  4.208870e+11  4.069200e+11  3.806990e+11  \n",
      "264  1.813776e+10  2.209642e+10  2.916378e+10  2.757796e+10  \n",
      "265  2.686794e+10  2.724052e+10  3.278975e+10  3.523137e+10  \n",
      "\n",
      "[266 rows x 68 columns]\n"
     ]
    }
   ],
   "source": [
    "print(gdp)"
   ]
  },
  {
   "cell_type": "code",
   "execution_count": 99,
   "id": "6f4419a6",
   "metadata": {},
   "outputs": [],
   "source": [
    "gdp = gdp[['Country Name', '2018', '2019', '2020', '2021', '2022']]"
   ]
  },
  {
   "cell_type": "code",
   "execution_count": 100,
   "id": "cd994bbd",
   "metadata": {},
   "outputs": [
    {
     "name": "stdout",
     "output_type": "stream",
     "text": [
      "                    Country Name          2018          2019          2020          2021          2022\n",
      "0                          Aruba  3.276184e+09  3.395799e+09  2.481857e+09  2.929447e+09  3.279344e+09\n",
      "1    Africa Eastern and Southern  1.012310e+12  1.009720e+12  9.333920e+11  1.085750e+12  1.191420e+12\n",
      "2                    Afghanistan  1.805322e+10  1.879944e+10  1.995593e+10  1.426000e+10  1.449724e+10\n",
      "3     Africa Western and Central  7.704950e+11  8.264840e+11  7.898020e+11  8.493120e+11  8.839740e+11\n",
      "4                         Angola  7.945069e+10  7.089796e+10  4.850156e+10  6.650513e+10  1.044000e+11\n",
      "..                           ...           ...           ...           ...           ...           ...\n",
      "261                       Kosovo  7.878760e+09  7.899738e+09  7.717145e+09  9.413404e+09  9.354903e+09\n",
      "262                  Yemen, Rep.  2.160616e+10           NaN           NaN           NaN           NaN\n",
      "263                 South Africa  4.052610e+11  3.893300e+11  3.379750e+11  4.208870e+11  4.069200e+11\n",
      "264                       Zambia  2.631151e+10  2.330867e+10  1.813776e+10  2.209642e+10  2.916378e+10\n",
      "265                     Zimbabwe  3.415607e+10  2.571741e+10  2.686794e+10  2.724052e+10  3.278975e+10\n",
      "\n",
      "[266 rows x 6 columns]\n"
     ]
    }
   ],
   "source": [
    "print(gdp)"
   ]
  },
  {
   "cell_type": "code",
   "execution_count": 101,
   "id": "89613e6c",
   "metadata": {},
   "outputs": [
    {
     "name": "stdout",
     "output_type": "stream",
     "text": [
      "               organisation records lost  year                                              story            industry          method data sensitivity     ID\n",
      "3           Shanghai Police  500,000,000  2022  A database containing records of over a billio...  financial services          hacked                5  420.0\n",
      "5    Dubai Real Estate Leak      800,000  2022  Data leak exposes how criminals, officials, an...  financial services      inside job                1  417.0\n",
      "6                    Heroku       50,000  2022  A compromised token was used by attackers to e...          technology          hacked                2  416.0\n",
      "7                 Mailchimp      106,586  2022  Hackers gained access to internal customer sup...          technology          hacked                1  415.0\n",
      "8                   PayHere    1,580,249  2022  Sri Lankan payment gateway PayHere suffered a ...  financial services          hacked                3  414.0\n",
      "14                 LINE Pay      133,000  2021                                                NaN  financial services  poor security                 2  408.0\n",
      "15                Robinhood    5,000,937  2021  a malicious hacker had socially engineered a c...  financial services          hacked                2  407.0\n",
      "18                     Acer    3,000,000  2021                                                NaN          technology          hacked                1  404.0\n",
      "20                   Nvidia      100,000  2021                                                NaN          technology          hacked                2  401.0\n",
      "21                     Okta      100,000  2021       Identity and access management provider Okta          technology          hacked                1  399.0\n",
      "42                  Peloton    3,000,000  2021                                                NaN          technology  poor security                 2  379.0\n",
      "43            Digital Ocean   10,000,000  2021                                                NaN          technology  poor security               NaN  378.0\n",
      "45                 Ubiquiti   16,000,000  2021               Unknown amount of user data breached          technology          hacked                2  376.0\n",
      "46             Meet Mindful    2,240,000  2021  Dating site user data includes real names, pho...          technology          hacked                4  375.0\n",
      "47          Experian Brazil  220,000,000  2021                                       Details hazy  financial services          hacked                2  374.0\n",
      "48                      Gab    4,000,000  2021  Over 70GB of data from the far-right social me...          technology          hacked                3  373.0\n",
      "50                 Facebook  533,000,000  2021  Phone numbers, full names, locations, email ad...          technology          hacked                1  371.0\n",
      "51                   Ledger      270,000  2020  A threat actor has leaked the stolen email and...  financial services          hacked                2  370.0\n",
      "53       The Hospital Group    1,000,000  2020  Hackers compromised the plastic surgery firm a...          healthcare          hacked                4  368.0\n",
      "58                 GEDmatch    1,400,000  2020  DNA data on up to 1.4m users of this geneaolog...          healthcare          hacked                5  363.0\n",
      "61                 Cense AI    2,500,000  2020  Medical records from an artificial intelligenc...          healthcare   poor security                4  360.0\n",
      "78         Desjardins Group    4,200,000  2019  An employee of the Canadian financial firm lea...  financial services      inside job                2  343.0\n",
      "80        Quest Diagnostics   20,000,000  2019  For an 8 month period, a hacker group stole pe...          healthcare   poor security                4  341.0\n",
      "87               Vårdguiden    2,700,000  2019  170,000 hours of sensitive calls to Sweden's h...          healthcare   poor security                5  333.0\n",
      "105                Coinmama      450,000  2019  Part of the theft of 127 million online accoun...  financial services          hacked                1  315.0\n",
      "110                    Blur    2,400,000  2019  A server belonging to the password manager ser...          technology           oops!                1  310.0\n",
      "114             Capital One  100,000,000  2019  The massive data breach included personal info...  financial services          hacked                3  306.0\n",
      "115                 Suprema   27,800,000  2019  A biometric security company stored unencrypte...          technology   poor security                5  305.0\n",
      "119                 OxyData  380,000,000  2019  Information compiled by a data aggregation fir...          technology   poor security                2  300.0\n",
      "120               Click2Gov      300,000  2018  Vulnerabilities in government payment software...  financial services          hacked                3  299.0\n",
      "121              SingHealth    1,500,000  2018  Hackers stole personal details of 1.5 million ...          healthcare          hacked                4  298.0\n",
      "122           GovPayNow.com   14,000,000  2018  A company used by US government agencies to ac...  financial services   poor security                2  297.0\n",
      "139       Helse Sør-Øst RHF    3,000,000  2018  Patient records of more than half of Norway's ...          healthcare          hacked                4  280.0\n",
      "148                 Twitter  330,000,000  2018  A glitch caused some passwords to be stored in...          technology   poor security                1  271.0\n",
      "153                   Dell       100,000  2018  Dell detected and disrupted unauthorized attem...          technology          hacked                1  266.0\n",
      "157     Medicare & Medicaid       93,689  2018   \"Sensitive\" information on applicants for US ...          healthcare          hacked                2  262.0\n",
      "161                  Apollo  200,000,000  2018  Data scraping company left a database exposed ...          technology   poor security                1  258.0\n"
     ]
    }
   ],
   "source": [
    "print(breaches)"
   ]
  },
  {
   "cell_type": "code",
   "execution_count": 102,
   "id": "ec2b15fd",
   "metadata": {},
   "outputs": [
    {
     "name": "stdout",
     "output_type": "stream",
     "text": [
      "3      2022\n",
      "5      2022\n",
      "6      2022\n",
      "7      2022\n",
      "8      2022\n",
      "14     2021\n",
      "15     2021\n",
      "18     2021\n",
      "20     2021\n",
      "21     2021\n",
      "42     2021\n",
      "43     2021\n",
      "45     2021\n",
      "46     2021\n",
      "47     2021\n",
      "48     2021\n",
      "50     2021\n",
      "51     2020\n",
      "53     2020\n",
      "58     2020\n",
      "61     2020\n",
      "78     2019\n",
      "80     2019\n",
      "87     2019\n",
      "105    2019\n",
      "110    2019\n",
      "114    2019\n",
      "115    2019\n",
      "119    2019\n",
      "120    2018\n",
      "121    2018\n",
      "122    2018\n",
      "139    2018\n",
      "148    2018\n",
      "153    2018\n",
      "157    2018\n",
      "161    2018\n",
      "Name: year, dtype: object\n"
     ]
    },
    {
     "ename": "AttributeError",
     "evalue": "'NoneType' object has no attribute 'unique'",
     "output_type": "error",
     "traceback": [
      "\u001b[1;31m---------------------------------------------------------------------------\u001b[0m",
      "\u001b[1;31mAttributeError\u001b[0m                            Traceback (most recent call last)",
      "Cell \u001b[1;32mIn[102], line 1\u001b[0m\n\u001b[1;32m----> 1\u001b[0m \u001b[38;5;28mprint\u001b[39m(breaches[\u001b[38;5;124m'\u001b[39m\u001b[38;5;124myear\u001b[39m\u001b[38;5;124m'\u001b[39m])\u001b[38;5;241m.\u001b[39munique()\n",
      "\u001b[1;31mAttributeError\u001b[0m: 'NoneType' object has no attribute 'unique'"
     ]
    }
   ],
   "source": [
    "print(breaches['year']).unique()"
   ]
  },
  {
   "cell_type": "code",
   "execution_count": 103,
   "id": "bc7ff0cb",
   "metadata": {},
   "outputs": [],
   "source": [
    "pivoted_breaches = breaches.pivot_table(index='organisation', columns='year', aggfunc='first')"
   ]
  },
  {
   "cell_type": "code",
   "execution_count": 104,
   "id": "e6020381",
   "metadata": {},
   "outputs": [
    {
     "name": "stdout",
     "output_type": "stream",
     "text": [
      "               organisation records lost  year                                              story            industry          method data sensitivity     ID\n",
      "3           Shanghai Police  500,000,000  2022  A database containing records of over a billio...  financial services          hacked                5  420.0\n",
      "5    Dubai Real Estate Leak      800,000  2022  Data leak exposes how criminals, officials, an...  financial services      inside job                1  417.0\n",
      "6                    Heroku       50,000  2022  A compromised token was used by attackers to e...          technology          hacked                2  416.0\n",
      "7                 Mailchimp      106,586  2022  Hackers gained access to internal customer sup...          technology          hacked                1  415.0\n",
      "8                   PayHere    1,580,249  2022  Sri Lankan payment gateway PayHere suffered a ...  financial services          hacked                3  414.0\n",
      "14                 LINE Pay      133,000  2021                                                NaN  financial services  poor security                 2  408.0\n",
      "15                Robinhood    5,000,937  2021  a malicious hacker had socially engineered a c...  financial services          hacked                2  407.0\n",
      "18                     Acer    3,000,000  2021                                                NaN          technology          hacked                1  404.0\n",
      "20                   Nvidia      100,000  2021                                                NaN          technology          hacked                2  401.0\n",
      "21                     Okta      100,000  2021       Identity and access management provider Okta          technology          hacked                1  399.0\n",
      "42                  Peloton    3,000,000  2021                                                NaN          technology  poor security                 2  379.0\n",
      "43            Digital Ocean   10,000,000  2021                                                NaN          technology  poor security               NaN  378.0\n",
      "45                 Ubiquiti   16,000,000  2021               Unknown amount of user data breached          technology          hacked                2  376.0\n",
      "46             Meet Mindful    2,240,000  2021  Dating site user data includes real names, pho...          technology          hacked                4  375.0\n",
      "47          Experian Brazil  220,000,000  2021                                       Details hazy  financial services          hacked                2  374.0\n",
      "48                      Gab    4,000,000  2021  Over 70GB of data from the far-right social me...          technology          hacked                3  373.0\n",
      "50                 Facebook  533,000,000  2021  Phone numbers, full names, locations, email ad...          technology          hacked                1  371.0\n",
      "51                   Ledger      270,000  2020  A threat actor has leaked the stolen email and...  financial services          hacked                2  370.0\n",
      "53       The Hospital Group    1,000,000  2020  Hackers compromised the plastic surgery firm a...          healthcare          hacked                4  368.0\n",
      "58                 GEDmatch    1,400,000  2020  DNA data on up to 1.4m users of this geneaolog...          healthcare          hacked                5  363.0\n",
      "61                 Cense AI    2,500,000  2020  Medical records from an artificial intelligenc...          healthcare   poor security                4  360.0\n",
      "78         Desjardins Group    4,200,000  2019  An employee of the Canadian financial firm lea...  financial services      inside job                2  343.0\n",
      "80        Quest Diagnostics   20,000,000  2019  For an 8 month period, a hacker group stole pe...          healthcare   poor security                4  341.0\n",
      "87               Vårdguiden    2,700,000  2019  170,000 hours of sensitive calls to Sweden's h...          healthcare   poor security                5  333.0\n",
      "105                Coinmama      450,000  2019  Part of the theft of 127 million online accoun...  financial services          hacked                1  315.0\n",
      "110                    Blur    2,400,000  2019  A server belonging to the password manager ser...          technology           oops!                1  310.0\n",
      "114             Capital One  100,000,000  2019  The massive data breach included personal info...  financial services          hacked                3  306.0\n",
      "115                 Suprema   27,800,000  2019  A biometric security company stored unencrypte...          technology   poor security                5  305.0\n",
      "119                 OxyData  380,000,000  2019  Information compiled by a data aggregation fir...          technology   poor security                2  300.0\n",
      "120               Click2Gov      300,000  2018  Vulnerabilities in government payment software...  financial services          hacked                3  299.0\n",
      "121              SingHealth    1,500,000  2018  Hackers stole personal details of 1.5 million ...          healthcare          hacked                4  298.0\n",
      "122           GovPayNow.com   14,000,000  2018  A company used by US government agencies to ac...  financial services   poor security                2  297.0\n",
      "139       Helse Sør-Øst RHF    3,000,000  2018  Patient records of more than half of Norway's ...          healthcare          hacked                4  280.0\n",
      "148                 Twitter  330,000,000  2018  A glitch caused some passwords to be stored in...          technology   poor security                1  271.0\n",
      "153                   Dell       100,000  2018  Dell detected and disrupted unauthorized attem...          technology          hacked                1  266.0\n",
      "157     Medicare & Medicaid       93,689  2018   \"Sensitive\" information on applicants for US ...          healthcare          hacked                2  262.0\n",
      "161                  Apollo  200,000,000  2018  Data scraping company left a database exposed ...          technology   poor security                1  258.0\n"
     ]
    }
   ],
   "source": [
    "print(breaches)"
   ]
  },
  {
   "cell_type": "code",
   "execution_count": 105,
   "id": "c947ac8a",
   "metadata": {},
   "outputs": [],
   "source": [
    "breaches = breaches.drop(columns=['story'])"
   ]
  },
  {
   "cell_type": "code",
   "execution_count": 106,
   "id": "2d3906c9",
   "metadata": {},
   "outputs": [
    {
     "name": "stdout",
     "output_type": "stream",
     "text": [
      "               organisation records lost  year            industry          method data sensitivity     ID\n",
      "3           Shanghai Police  500,000,000  2022  financial services          hacked                5  420.0\n",
      "5    Dubai Real Estate Leak      800,000  2022  financial services      inside job                1  417.0\n",
      "6                    Heroku       50,000  2022          technology          hacked                2  416.0\n",
      "7                 Mailchimp      106,586  2022          technology          hacked                1  415.0\n",
      "8                   PayHere    1,580,249  2022  financial services          hacked                3  414.0\n",
      "14                 LINE Pay      133,000  2021  financial services  poor security                 2  408.0\n",
      "15                Robinhood    5,000,937  2021  financial services          hacked                2  407.0\n",
      "18                     Acer    3,000,000  2021          technology          hacked                1  404.0\n",
      "20                   Nvidia      100,000  2021          technology          hacked                2  401.0\n",
      "21                     Okta      100,000  2021          technology          hacked                1  399.0\n",
      "42                  Peloton    3,000,000  2021          technology  poor security                 2  379.0\n",
      "43            Digital Ocean   10,000,000  2021          technology  poor security               NaN  378.0\n",
      "45                 Ubiquiti   16,000,000  2021          technology          hacked                2  376.0\n",
      "46             Meet Mindful    2,240,000  2021          technology          hacked                4  375.0\n",
      "47          Experian Brazil  220,000,000  2021  financial services          hacked                2  374.0\n",
      "48                      Gab    4,000,000  2021          technology          hacked                3  373.0\n",
      "50                 Facebook  533,000,000  2021          technology          hacked                1  371.0\n",
      "51                   Ledger      270,000  2020  financial services          hacked                2  370.0\n",
      "53       The Hospital Group    1,000,000  2020          healthcare          hacked                4  368.0\n",
      "58                 GEDmatch    1,400,000  2020          healthcare          hacked                5  363.0\n",
      "61                 Cense AI    2,500,000  2020          healthcare   poor security                4  360.0\n",
      "78         Desjardins Group    4,200,000  2019  financial services      inside job                2  343.0\n",
      "80        Quest Diagnostics   20,000,000  2019          healthcare   poor security                4  341.0\n",
      "87               Vårdguiden    2,700,000  2019          healthcare   poor security                5  333.0\n",
      "105                Coinmama      450,000  2019  financial services          hacked                1  315.0\n",
      "110                    Blur    2,400,000  2019          technology           oops!                1  310.0\n",
      "114             Capital One  100,000,000  2019  financial services          hacked                3  306.0\n",
      "115                 Suprema   27,800,000  2019          technology   poor security                5  305.0\n",
      "119                 OxyData  380,000,000  2019          technology   poor security                2  300.0\n",
      "120               Click2Gov      300,000  2018  financial services          hacked                3  299.0\n",
      "121              SingHealth    1,500,000  2018          healthcare          hacked                4  298.0\n",
      "122           GovPayNow.com   14,000,000  2018  financial services   poor security                2  297.0\n",
      "139       Helse Sør-Øst RHF    3,000,000  2018          healthcare          hacked                4  280.0\n",
      "148                 Twitter  330,000,000  2018          technology   poor security                1  271.0\n",
      "153                   Dell       100,000  2018          technology          hacked                1  266.0\n",
      "157     Medicare & Medicaid       93,689  2018          healthcare          hacked                2  262.0\n",
      "161                  Apollo  200,000,000  2018          technology   poor security                1  258.0\n"
     ]
    }
   ],
   "source": [
    "print(breaches)"
   ]
  },
  {
   "cell_type": "code",
   "execution_count": null,
   "id": "da02eb62-2fa2-40b4-8596-2c5c83dd6ea1",
   "metadata": {},
   "outputs": [],
   "source": []
  }
 ],
 "metadata": {
  "kernelspec": {
   "display_name": "Python 3 (ipykernel)",
   "language": "python",
   "name": "python3"
  },
  "language_info": {
   "codemirror_mode": {
    "name": "ipython",
    "version": 3
   },
   "file_extension": ".py",
   "mimetype": "text/x-python",
   "name": "python",
   "nbconvert_exporter": "python",
   "pygments_lexer": "ipython3",
   "version": "3.13.2"
  }
 },
 "nbformat": 4,
 "nbformat_minor": 5
}
