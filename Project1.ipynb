{
 "cells": [
  {
   "cell_type": "code",
   "execution_count": 1,
   "id": "8db0a99f-4daf-474a-b318-a42707dbd8b3",
   "metadata": {},
   "outputs": [],
   "source": [
    "import pandas as pd"
   ]
  },
  {
   "cell_type": "code",
   "execution_count": 2,
   "id": "87b6a323-8893-4b68-9aee-e9966df2d4d0",
   "metadata": {},
   "outputs": [],
   "source": [
    "breaches = pd.read_csv(\"Balloon Race Data Breaches - LATEST - breaches.csv\")"
   ]
  },
  {
   "cell_type": "code",
   "execution_count": 3,
   "id": "e2c798d0-1744-4f64-abbd-447d67e58443",
   "metadata": {},
   "outputs": [],
   "source": [
    "gdp = pd.read_csv(\"All Countries and Economies GDP (US) 1960-2023.csv\")"
   ]
  },
  {
   "cell_type": "code",
   "execution_count": 4,
   "id": "960b5602-69e6-4430-9da0-2c16b4caca1b",
   "metadata": {},
   "outputs": [
    {
     "name": "stdout",
     "output_type": "stream",
     "text": [
      "                                        organisation alternative name  \\\n",
      "0  visualisation here: https://informationisbeaut...              NaN   \n",
      "1                                               Plex              NaN   \n",
      "2                                            Twitter              NaN   \n",
      "3                                    Shanghai Police              NaN   \n",
      "4                           City of Amagasaki, Japan              NaN   \n",
      "\n",
      "                                        records lost           year     \\\n",
      "0  (use 3m, 4m, 5m or 10m to approximate unknown ...  year story broke   \n",
      "1                                         15,000,000              2022   \n",
      "2                                          5,400,000              2021   \n",
      "3                                        500,000,000              2022   \n",
      "4                                            500,000              2022   \n",
      "\n",
      "       date                                              story  \\\n",
      "0       NaN                                                NaN   \n",
      "1  Aug 2022  Intruders access password data, usernames, and...   \n",
      "2  Dec 2021  Zero day vulnerability allowed a threat actor ...   \n",
      "3  Jul 2022  A database containing records of over a billio...   \n",
      "4  Jun 2022  An unnamed government official lost his bag af...   \n",
      "\n",
      "                                              sector  \\\n",
      "0  web\\nhealthcare\\napp\\nretail\\ngaming\\ntranspor...   \n",
      "1                                               web    \n",
      "2                                                web   \n",
      "3                                          financial   \n",
      "4                                         government   \n",
      "\n",
      "                                              method interesting story  \\\n",
      "0  poor security\\nhacked\\noops!\\nlost device \\nin...               NaN   \n",
      "1                                             hacked               NaN   \n",
      "2                                             hacked               NaN   \n",
      "3                                             hacked               NaN   \n",
      "4                                              oops!               NaN   \n",
      "\n",
      "                                    data sensitivity       displayed records  \\\n",
      "0  1. Just email address/Online information \\n2 S...  =IF(C3>100000000,C3,\")   \n",
      "1                                                  1                     NaN   \n",
      "2                                                  2                     NaN   \n",
      "3                                                  5           \"one billion\"   \n",
      "4                                                  3                     NaN   \n",
      "\n",
      "   Unnamed: 11        source name  \\\n",
      "0          NaN                NaN   \n",
      "1          NaN       Ars technica   \n",
      "2          NaN  Bleeping Computer   \n",
      "3          NaN       The Register   \n",
      "4          NaN                BBC   \n",
      "\n",
      "                                     1st source link 2nd source link     ID  \n",
      "0                                                NaN             NaN    NaN  \n",
      "1  https://arstechnica.com/information-technology...             NaN  418.0  \n",
      "2  https://www.bleepingcomputer.com/news/security...             NaN  419.0  \n",
      "3  https://www.theregister.com/2022/07/05/shangha...             NaN  420.0  \n",
      "4     https://www.bbc.co.uk/news/world-asia-61921222             NaN  421.0  \n"
     ]
    }
   ],
   "source": [
    "print(breaches.head())"
   ]
  },
  {
   "cell_type": "code",
   "execution_count": 5,
   "id": "80d1ce6e-df71-4e92-82f3-d4a21b778ca0",
   "metadata": {},
   "outputs": [
    {
     "name": "stdout",
     "output_type": "stream",
     "text": [
      "                  Country Name Country Code     Indicator Name  \\\n",
      "0                        Aruba          ABW  GDP (current US$)   \n",
      "1  Africa Eastern and Southern          AFE  GDP (current US$)   \n",
      "2                  Afghanistan          AFG  GDP (current US$)   \n",
      "3   Africa Western and Central          AFW  GDP (current US$)   \n",
      "4                       Angola          AGO  GDP (current US$)   \n",
      "\n",
      "   Indicator Code          1960          1961          1962          1963  \\\n",
      "0  NY.GDP.MKTP.CD           NaN           NaN           NaN           NaN   \n",
      "1  NY.GDP.MKTP.CD  2.421063e+10  2.496398e+10  2.707880e+10  3.177575e+10   \n",
      "2  NY.GDP.MKTP.CD           NaN           NaN           NaN           NaN   \n",
      "3  NY.GDP.MKTP.CD  1.190495e+10  1.270788e+10  1.363076e+10  1.446909e+10   \n",
      "4  NY.GDP.MKTP.CD           NaN           NaN           NaN           NaN   \n",
      "\n",
      "           1964          1965  ...          2014          2015          2016  \\\n",
      "0           NaN           NaN  ...  2.790850e+09  2.962907e+09  2.983635e+09   \n",
      "1  3.028579e+10  3.381317e+10  ...  9.787080e+11  8.982780e+11  8.289430e+11   \n",
      "2           NaN           NaN  ...  2.049713e+10  1.913422e+10  1.811657e+10   \n",
      "3  1.580376e+10  1.692109e+10  ...  8.974160e+11  7.717670e+11  6.943610e+11   \n",
      "4           NaN           NaN  ...  1.359670e+11  9.049642e+10  5.276162e+10   \n",
      "\n",
      "           2017          2018          2019          2020          2021  \\\n",
      "0  3.092429e+09  3.276184e+09  3.395799e+09  2.481857e+09  2.929447e+09   \n",
      "1  9.729990e+11  1.012310e+12  1.009720e+12  9.333920e+11  1.085750e+12   \n",
      "2  1.875346e+10  1.805322e+10  1.879944e+10  1.995593e+10  1.426000e+10   \n",
      "3  6.878490e+11  7.704950e+11  8.264840e+11  7.898020e+11  8.493120e+11   \n",
      "4  7.369015e+10  7.945069e+10  7.089796e+10  4.850156e+10  6.650513e+10   \n",
      "\n",
      "           2022          2023  \n",
      "0  3.279344e+09  3.648573e+09  \n",
      "1  1.191420e+12  1.245470e+12  \n",
      "2  1.449724e+10  1.723305e+10  \n",
      "3  8.839740e+11  7.991060e+11  \n",
      "4  1.044000e+11  8.482465e+10  \n",
      "\n",
      "[5 rows x 68 columns]\n"
     ]
    }
   ],
   "source": [
    "print(gdp.head())"
   ]
  },
  {
   "cell_type": "code",
   "execution_count": null,
   "id": "9a78ba32-6ff0-45af-9c47-55189136a656",
   "metadata": {},
   "outputs": [],
   "source": []
  }
 ],
 "metadata": {
  "kernelspec": {
   "display_name": "Python 3 (ipykernel)",
   "language": "python",
   "name": "python3"
  },
  "language_info": {
   "codemirror_mode": {
    "name": "ipython",
    "version": 3
   },
   "file_extension": ".py",
   "mimetype": "text/x-python",
   "name": "python",
   "nbconvert_exporter": "python",
   "pygments_lexer": "ipython3",
   "version": "3.13.2"
  }
 },
 "nbformat": 4,
 "nbformat_minor": 5
}
