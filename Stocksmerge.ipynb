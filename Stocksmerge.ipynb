{
 "cells": [
  {
   "cell_type": "code",
   "execution_count": 1,
   "id": "a5b875d5-10f5-4930-8851-2cd2f063f141",
   "metadata": {},
   "outputs": [],
   "source": [
    "import pandas as pd"
   ]
  },
  {
   "cell_type": "code",
   "execution_count": 2,
   "id": "67a8e653-29f6-4fe1-a783-cdfa149ea2cd",
   "metadata": {},
   "outputs": [],
   "source": [
    "breaches = pd.read_csv(\"Balloon Race Data Breaches - LATEST - breaches.csv\")"
   ]
  },
  {
   "cell_type": "code",
   "execution_count": 3,
   "id": "e61e4c56-a97b-4ff2-bd0a-da65bbc295d7",
   "metadata": {},
   "outputs": [],
   "source": [
    "breaches['organisation'] = breaches['organisation'].str.lower() "
   ]
  },
  {
   "cell_type": "code",
   "execution_count": 4,
   "id": "b96805d6-5ff1-41fc-aefb-95a25da74920",
   "metadata": {},
   "outputs": [],
   "source": [
    "stocks = pd.read_csv(\"World-Stock-Prices-Dataset.csv\")"
   ]
  },
  {
   "cell_type": "code",
   "execution_count": 5,
   "id": "1ae475c4-7e66-4d8c-87ec-1f100a10729a",
   "metadata": {},
   "outputs": [],
   "source": [
    "stocks['Brand_Name'] = stocks['Brand_Name'].str.lower() "
   ]
  },
  {
   "cell_type": "code",
   "execution_count": 6,
   "id": "1057e541-b8b7-45de-aafd-05e004c3c8ab",
   "metadata": {},
   "outputs": [],
   "source": [
    "stocks = stocks.rename(columns={'Brand_Name': 'organisation'})"
   ]
  },
  {
   "cell_type": "code",
   "execution_count": 7,
   "id": "ad8d1057-14b9-4e86-913a-b48ed76dc94e",
   "metadata": {},
   "outputs": [],
   "source": [
    "stocks = stocks.rename(columns={'Date': 'StockDate'})"
   ]
  },
  {
   "cell_type": "code",
   "execution_count": 8,
   "id": "795e7fb7-3c25-47ea-8e64-7137b92fd745",
   "metadata": {},
   "outputs": [],
   "source": [
    "breaches = breaches.rename(columns={'date': 'BreachDate'}) "
   ]
  },
  {
   "cell_type": "code",
   "execution_count": 9,
   "id": "046e642c-cd48-4b5b-b085-e7a18ac8771e",
   "metadata": {},
   "outputs": [],
   "source": [
    "breaches['BreachDate'] = pd.to_datetime(breaches['BreachDate'], format='mixed', utc=True)"
   ]
  },
  {
   "cell_type": "code",
   "execution_count": 10,
   "id": "b2543a86-cfb5-4f7d-8ecc-ac98a1004ec6",
   "metadata": {},
   "outputs": [],
   "source": [
    "breaches['breach_month_year'] = breaches['BreachDate'].dt.strftime('%B %Y')"
   ]
  },
  {
   "cell_type": "code",
   "execution_count": 11,
   "id": "120e92a4-4655-4414-ab93-7081c753de8f",
   "metadata": {},
   "outputs": [
    {
     "data": {
      "text/plain": [
       "organisation                      object\n",
       "alternative name                  object\n",
       "records lost                      object\n",
       "year                              object\n",
       "BreachDate           datetime64[ns, UTC]\n",
       "story                             object\n",
       "sector                            object\n",
       "method                            object\n",
       "interesting story                 object\n",
       "data sensitivity                  object\n",
       "displayed records                 object\n",
       "Unnamed: 11                      float64\n",
       "source name                       object\n",
       "1st source link                   object\n",
       "2nd source link                   object\n",
       "ID                               float64\n",
       "breach_month_year                 object\n",
       "dtype: object"
      ]
     },
     "execution_count": 11,
     "metadata": {},
     "output_type": "execute_result"
    }
   ],
   "source": [
    "breaches.dtypes"
   ]
  },
  {
   "cell_type": "code",
   "execution_count": 12,
   "id": "06adaa13-5f35-45aa-8947-7ee27b9a92f2",
   "metadata": {},
   "outputs": [],
   "source": [
    "breaches = breaches.drop(columns=[\"alternative name\",\"story\",\"interesting story\",\"Unnamed: 11\", \"source name\", \"1st source link\", \"2nd source link\", \"ID\"])"
   ]
  },
  {
   "cell_type": "code",
   "execution_count": 13,
   "id": "5dd2e47a-d04b-4ad7-a6ed-2e4370bacaa9",
   "metadata": {},
   "outputs": [],
   "source": [
    "stocks = stocks.drop(columns=[\"Open\",\"High\",\"Low\",\"Ticker\",\"Dividends\",\"Stock Splits\",\"Capital Gains\"])"
   ]
  },
  {
   "cell_type": "code",
   "execution_count": 14,
   "id": "bf1c9ff6-5893-4251-ade8-06a311a9218c",
   "metadata": {},
   "outputs": [],
   "source": [
    "stocks['StockDate'] = pd.to_datetime(stocks['StockDate'], utc=True)\n",
    "stocks['stock_month_year'] = stocks['StockDate'].dt.strftime('%B %Y')"
   ]
  },
  {
   "cell_type": "code",
   "execution_count": 15,
   "id": "70463ced-b034-4f42-bb88-5c257935582d",
   "metadata": {},
   "outputs": [
    {
     "data": {
      "text/plain": [
       "StockDate           datetime64[ns, UTC]\n",
       "Close                           float64\n",
       "Volume                          float64\n",
       "organisation                     object\n",
       "Industry_Tag                     object\n",
       "Country                          object\n",
       "stock_month_year                 object\n",
       "dtype: object"
      ]
     },
     "execution_count": 15,
     "metadata": {},
     "output_type": "execute_result"
    }
   ],
   "source": [
    "stocks.dtypes"
   ]
  },
  {
   "cell_type": "code",
   "execution_count": 18,
   "id": "fc5a2b25-be57-4c89-becc-9ddc4eb98000",
   "metadata": {},
   "outputs": [
    {
     "name": "stdout",
     "output_type": "stream",
     "text": [
      "0           6.622500\n",
      "1         107.137497\n",
      "2         122.079999\n",
      "3         221.800003\n",
      "4         211.840004\n",
      "             ...    \n",
      "310117     37.333191\n",
      "310118     25.381500\n",
      "310119     64.462938\n",
      "310120      6.538372\n",
      "310121      4.814685\n",
      "Name: Close, Length: 310122, dtype: float64\n"
     ]
    },
    {
     "name": "stderr",
     "output_type": "stream",
     "text": [
      "C:\\Users\\Administrator\\AppData\\Local\\Temp\\1\\ipykernel_2056\\284934890.py:2: UserWarning: Converting to PeriodArray/Index representation will drop timezone information.\n",
      "  stocks['year_monthstocks'] = stocks['StockDate'].dt.to_period('M')\n"
     ]
    }
   ],
   "source": [
    "# Extract the year and month from the date column\n",
    "stocks['year_monthstocks'] = stocks['StockDate'].dt.to_period('M')\n",
    "\n",
    "# Group by the year and month, and calculate the average for the desired column\n",
    "monthly_average = []\n",
    "stocks['monthly_average'] = monthly_average = stocks.groupby(['organisation','year_monthstocks'])['Close'].transform('mean')\n",
    "# stocks = monthly_average = stocks.groupby('year_monthstocks')['Close'].mean()\n",
    "\n",
    "# Display the result\n",
    "print(monthly_average)"
   ]
  },
  {
   "cell_type": "code",
   "execution_count": null,
   "id": "2ba87fe0-ebe7-43ff-bfc3-de2724cc4953",
   "metadata": {},
   "outputs": [],
   "source": []
  },
  {
   "cell_type": "code",
   "execution_count": 19,
   "id": "ebc1dbe4-c59d-4e04-a4ac-3b290983f86a",
   "metadata": {},
   "outputs": [],
   "source": [
    "merged_data_stocks = pd.merge(stocks, breaches, on='organisation', how='left')"
   ]
  },
  {
   "cell_type": "code",
   "execution_count": 20,
   "id": "1d3898c8-be13-41ef-94cf-1900cbe8ff7a",
   "metadata": {},
   "outputs": [],
   "source": [
    "#remove n/a values\n",
    "\n",
    "merged_data_stocks = merged_data_stocks.dropna(subset=['organisation','records lost']) "
   ]
  },
  {
   "cell_type": "code",
   "execution_count": 21,
   "id": "6488ffc8-b028-4b35-83ef-4da3d03d3bc2",
   "metadata": {},
   "outputs": [],
   "source": [
    "distinct_values = merged_data_stocks['organisation'].unique()"
   ]
  },
  {
   "cell_type": "code",
   "execution_count": 22,
   "id": "17a8efc7-9fb0-48a5-a147-403e1d173526",
   "metadata": {},
   "outputs": [
    {
     "name": "stdout",
     "output_type": "stream",
     "text": [
      "['peloton' 'amazon' 'apple' 'target' 'spotify' 'starbucks' 'nvidia'\n",
      " 'adobe' 'toyota' 'uber' 'microsoft' 'ubisoft' 'nintendo' 'twitter']\n"
     ]
    }
   ],
   "source": [
    "print(distinct_values)"
   ]
  },
  {
   "cell_type": "code",
   "execution_count": 23,
   "id": "c3c94bb0-c64a-4dcd-af8e-5ffd6fd600cc",
   "metadata": {},
   "outputs": [
    {
     "name": "stdout",
     "output_type": "stream",
     "text": [
      "                       StockDate       Close       Volume organisation  \\\n",
      "0      2025-07-03 04:00:00+00:00    6.640000    4209664.0      peloton   \n",
      "3      2025-07-03 04:00:00+00:00  223.410004   29295154.0       amazon   \n",
      "4      2025-07-03 04:00:00+00:00  213.550003   34697317.0        apple   \n",
      "6      2025-07-03 04:00:00+00:00  104.059998    3535290.0       target   \n",
      "8      2025-07-03 04:00:00+00:00  725.049988    1071771.0      spotify   \n",
      "...                          ...         ...          ...          ...   \n",
      "318171 2000-01-03 05:00:00+00:00    2.437765   24232000.0    starbucks   \n",
      "318178 2000-01-03 05:00:00+00:00    4.468750  322352000.0       amazon   \n",
      "318181 2000-01-03 05:00:00+00:00    3.990652     134500.0     nintendo   \n",
      "318182 2000-01-03 05:00:00+00:00    3.990652     134500.0     nintendo   \n",
      "318188 2000-01-03 05:00:00+00:00   72.034958      21200.0       toyota   \n",
      "\n",
      "           Industry_Tag Country stock_month_year year_monthstocks  \\\n",
      "0               fitness     usa        July 2025          2025-07   \n",
      "3            e-commerce     usa        July 2025          2025-07   \n",
      "4            technology     usa        July 2025          2025-07   \n",
      "6                retail     usa        July 2025          2025-07   \n",
      "8                 music     usa        July 2025          2025-07   \n",
      "...                 ...     ...              ...              ...   \n",
      "318171  food & beverage     usa     January 2000          2000-01   \n",
      "318178       e-commerce     usa     January 2000          2000-01   \n",
      "318181           gaming   japan     January 2000          2000-01   \n",
      "318182           gaming   japan     January 2000          2000-01   \n",
      "318188       automotive   japan     January 2000          2000-01   \n",
      "\n",
      "        monthly_average records lost year                   BreachDate  \\\n",
      "0              6.622500    3,000,000    2021 2021-05-01 00:00:00+00:00   \n",
      "3            221.800003    5,000,000    2018 2018-11-01 00:00:00+00:00   \n",
      "4            211.840004      275,000    2013 2013-07-01 00:00:00+00:00   \n",
      "6            104.354998   70,000,000    2013 2013-12-01 00:00:00+00:00   \n",
      "8            720.487488      500,000    2020 2020-12-01 00:00:00+00:00   \n",
      "...                 ...          ...     ...                       ...   \n",
      "318171         2.593795       97,000    2008 2008-11-01 00:00:00+00:00   \n",
      "318178         3.402500    5,000,000    2018 2018-11-01 00:00:00+00:00   \n",
      "318181         3.893261      300,000    2020 2020-04-01 00:00:00+00:00   \n",
      "318182         3.893261    4,000,000    2013 2013-06-01 00:00:00+00:00   \n",
      "318188        64.462938    3,100,000    2019 2019-04-01 00:00:00+00:00   \n",
      "\n",
      "           sector          method data sensitivity displayed records  \\\n",
      "0            tech  poor security                 2               NaN   \n",
      "3          retail           oops!                1               NaN   \n",
      "4       tech, web          hacked                1               NaN   \n",
      "6          retail          hacked                3               NaN   \n",
      "8             app           oops!                1               NaN   \n",
      "...           ...             ...              ...               ...   \n",
      "318171     retail    lost device                 2               NaN   \n",
      "318178     retail           oops!                1               NaN   \n",
      "318181     gaming          hacked                3           300,000   \n",
      "318182     gaming          hacked                2               NaN   \n",
      "318188  transport          hacked                2               NaN   \n",
      "\n",
      "       breach_month_year  \n",
      "0               May 2021  \n",
      "3          November 2018  \n",
      "4              July 2013  \n",
      "6          December 2013  \n",
      "8          December 2020  \n",
      "...                  ...  \n",
      "318171     November 2008  \n",
      "318178     November 2018  \n",
      "318181        April 2020  \n",
      "318182         June 2013  \n",
      "318188        April 2019  \n",
      "\n",
      "[75221 rows x 17 columns]\n"
     ]
    }
   ],
   "source": [
    "print(merged_data_stocks)"
   ]
  },
  {
   "cell_type": "code",
   "execution_count": 24,
   "id": "97665616-2f8e-4f58-accd-38d030d70e41",
   "metadata": {},
   "outputs": [],
   "source": [
    "#removing columns that had distinct values so can select distinct rows without repeats\n",
    "\n",
    "merged_data_stocks =merged_data_stocks.drop(columns=[\"StockDate\",\"Close\",\"Volume\",\"BreachDate\",\"year_monthstocks\"])"
   ]
  },
  {
   "cell_type": "code",
   "execution_count": 25,
   "id": "c0a11587-32db-4279-9678-25b5389cb764",
   "metadata": {},
   "outputs": [],
   "source": [
    "matching_dates = merged_data_stocks[merged_data_stocks['breach_month_year'] == merged_data_stocks['stock_month_year']].drop_duplicates()"
   ]
  },
  {
   "cell_type": "code",
   "execution_count": 26,
   "id": "ce54619b-b81d-45c3-b262-ba68aa34f5c2",
   "metadata": {},
   "outputs": [
    {
     "name": "stdout",
     "output_type": "stream",
     "text": [
      "       organisation     Industry_Tag Country stock_month_year  \\\n",
      "68131       peloton          fitness     usa         May 2021   \n",
      "70650        nvidia       technology     usa       March 2021   \n",
      "74432       spotify            music     usa    December 2020   \n",
      "84603      nintendo           gaming   japan       April 2020   \n",
      "88249     microsoft       technology     usa     January 2020   \n",
      "99414        toyota       automotive   japan       April 2019   \n",
      "104875       amazon       e-commerce     usa    November 2018   \n",
      "169904       target           retail     usa    December 2013   \n",
      "171962        adobe       technology     usa     October 2013   \n",
      "175187      ubisoft           gaming  france        July 2013   \n",
      "175201        apple       technology     usa        July 2013   \n",
      "176308     nintendo           gaming   japan        June 2013   \n",
      "231940    starbucks  food & beverage     usa    November 2008   \n",
      "\n",
      "        monthly_average records lost year        sector          method  \\\n",
      "68131         96.046500    3,000,000    2021       tech  poor security    \n",
      "70650        128.515732      100,000    2021       tech          hacked   \n",
      "74432        324.561364      500,000    2020        app           oops!   \n",
      "84603         10.474667      300,000    2020     gaming          hacked   \n",
      "88249        158.356455  250,000,000    2020        web   poor security   \n",
      "99414        122.633334    3,100,000    2019  transport          hacked   \n",
      "104875        81.274190    5,000,000    2018     retail           oops!   \n",
      "169904        47.625000   70,000,000    2013     retail          hacked   \n",
      "171962        52.400870   38,000,000    2013       tech          hacked   \n",
      "175187         2.944545   58,000,000    2013     gaming          hacked   \n",
      "175201        13.288950      275,000    2013  tech, web          hacked   \n",
      "176308         2.627000    4,000,000    2013     gaming          hacked   \n",
      "231940         3.748321       97,000    2008     retail    lost device    \n",
      "\n",
      "       data sensitivity displayed records breach_month_year  \n",
      "68131                 2               NaN          May 2021  \n",
      "70650                 2               NaN        March 2021  \n",
      "74432                 1               NaN     December 2020  \n",
      "84603                 3           300,000        April 2020  \n",
      "88249                 1       250,000,000      January 2020  \n",
      "99414                 2               NaN        April 2019  \n",
      "104875                1               NaN     November 2018  \n",
      "169904                3               NaN     December 2013  \n",
      "171962                3        38,000,000      October 2013  \n",
      "175187                2               NaN         July 2013  \n",
      "175201                1               NaN         July 2013  \n",
      "176308                2               NaN         June 2013  \n",
      "231940                2               NaN     November 2008  \n"
     ]
    }
   ],
   "source": [
    "print(matching_dates)"
   ]
  },
  {
   "cell_type": "code",
   "execution_count": null,
   "id": "e5f9be8f-12cd-45cc-afdc-04ba686bc42e",
   "metadata": {},
   "outputs": [],
   "source": []
  },
  {
   "cell_type": "code",
   "execution_count": null,
   "id": "a927b400-6958-4b76-b633-472d866919cc",
   "metadata": {},
   "outputs": [],
   "source": []
  },
  {
   "cell_type": "code",
   "execution_count": null,
   "id": "5f4f902a-a4b5-4456-90af-37d1f02770e4",
   "metadata": {},
   "outputs": [],
   "source": []
  },
  {
   "cell_type": "code",
   "execution_count": null,
   "id": "eea3979d-3d3a-4b36-ace4-f770074442f1",
   "metadata": {},
   "outputs": [],
   "source": []
  },
  {
   "cell_type": "code",
   "execution_count": null,
   "id": "7d73321f-0261-4e42-979f-ccf1ba6455e9",
   "metadata": {},
   "outputs": [],
   "source": []
  },
  {
   "cell_type": "code",
   "execution_count": null,
   "id": "7c7deca2-87ca-4cdd-8f64-988e901584e5",
   "metadata": {},
   "outputs": [],
   "source": []
  },
  {
   "cell_type": "code",
   "execution_count": null,
   "id": "99d773e8-8ad4-4e65-b3d7-9316b7485666",
   "metadata": {},
   "outputs": [],
   "source": []
  },
  {
   "cell_type": "code",
   "execution_count": null,
   "id": "acf0c1d2-7767-4b88-b743-1faae2dc6b93",
   "metadata": {},
   "outputs": [],
   "source": []
  },
  {
   "cell_type": "code",
   "execution_count": null,
   "id": "83704320-b382-4b0d-9262-f5fe7153b217",
   "metadata": {},
   "outputs": [],
   "source": []
  }
 ],
 "metadata": {
  "kernelspec": {
   "display_name": "Python 3 (ipykernel)",
   "language": "python",
   "name": "python3"
  },
  "language_info": {
   "codemirror_mode": {
    "name": "ipython",
    "version": 3
   },
   "file_extension": ".py",
   "mimetype": "text/x-python",
   "name": "python",
   "nbconvert_exporter": "python",
   "pygments_lexer": "ipython3",
   "version": "3.13.2"
  }
 },
 "nbformat": 4,
 "nbformat_minor": 5
}
