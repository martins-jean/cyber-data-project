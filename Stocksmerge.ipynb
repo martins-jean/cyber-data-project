{
 "cells": [
  {
   "cell_type": "code",
   "execution_count": 1,
   "id": "a5b875d5-10f5-4930-8851-2cd2f063f141",
   "metadata": {},
   "outputs": [],
   "source": [
    "import pandas as pd"
   ]
  },
  {
   "cell_type": "code",
   "execution_count": 2,
   "id": "67a8e653-29f6-4fe1-a783-cdfa149ea2cd",
   "metadata": {},
   "outputs": [],
   "source": [
    "breaches = pd.read_csv(\"Balloon Race Data Breaches - LATEST - breaches.csv\")"
   ]
  },
  {
   "cell_type": "code",
   "execution_count": 3,
   "id": "e61e4c56-a97b-4ff2-bd0a-da65bbc295d7",
   "metadata": {},
   "outputs": [],
   "source": [
    "breaches['organisation'] = breaches['organisation'].str.lower() "
   ]
  },
  {
   "cell_type": "code",
   "execution_count": 4,
   "id": "b96805d6-5ff1-41fc-aefb-95a25da74920",
   "metadata": {},
   "outputs": [],
   "source": [
    "stocks = pd.read_csv(\"World-Stock-Prices-Dataset.csv\")"
   ]
  },
  {
   "cell_type": "code",
   "execution_count": 5,
   "id": "1ae475c4-7e66-4d8c-87ec-1f100a10729a",
   "metadata": {},
   "outputs": [],
   "source": [
    "stocks['Brand_Name'] = stocks['Brand_Name'].str.lower() "
   ]
  },
  {
   "cell_type": "code",
   "execution_count": 6,
   "id": "1057e541-b8b7-45de-aafd-05e004c3c8ab",
   "metadata": {},
   "outputs": [],
   "source": [
    "stocks = stocks.rename(columns={'Brand_Name': 'organisation'})"
   ]
  },
  {
   "cell_type": "code",
   "execution_count": 7,
   "id": "ad8d1057-14b9-4e86-913a-b48ed76dc94e",
   "metadata": {},
   "outputs": [],
   "source": [
    "stocks = stocks.rename(columns={'Date': 'StockDate'})"
   ]
  },
  {
   "cell_type": "code",
   "execution_count": 8,
   "id": "795e7fb7-3c25-47ea-8e64-7137b92fd745",
   "metadata": {},
   "outputs": [],
   "source": [
    "breaches = breaches.rename(columns={'date': 'BreachDate'}) "
   ]
  },
  {
   "cell_type": "code",
   "execution_count": 9,
   "id": "120e92a4-4655-4414-ab93-7081c753de8f",
   "metadata": {},
   "outputs": [
    {
     "data": {
      "text/plain": [
       "organisation          object\n",
       "alternative name      object\n",
       "records lost          object\n",
       "year                  object\n",
       "BreachDate            object\n",
       "story                 object\n",
       "sector                object\n",
       "method                object\n",
       "interesting story     object\n",
       "data sensitivity      object\n",
       "displayed records     object\n",
       "Unnamed: 11          float64\n",
       "source name           object\n",
       "1st source link       object\n",
       "2nd source link       object\n",
       "ID                   float64\n",
       "dtype: object"
      ]
     },
     "execution_count": 9,
     "metadata": {},
     "output_type": "execute_result"
    }
   ],
   "source": [
    "breaches.dtypes"
   ]
  },
  {
   "cell_type": "code",
   "execution_count": 10,
   "id": "06adaa13-5f35-45aa-8947-7ee27b9a92f2",
   "metadata": {},
   "outputs": [],
   "source": [
    "breaches = breaches.drop(columns=[\"alternative name\",\"story\",\"interesting story\",\"Unnamed: 11\", \"source name\", \"1st source link\", \"2nd source link\", \"ID\"])"
   ]
  },
  {
   "cell_type": "code",
   "execution_count": 11,
   "id": "5dd2e47a-d04b-4ad7-a6ed-2e4370bacaa9",
   "metadata": {},
   "outputs": [],
   "source": [
    "stocks = stocks.drop(columns=[\"Open\",\"High\",\"Low\",\"Ticker\",\"Dividends\",\"Stock Splits\",\"Capital Gains\"])"
   ]
  },
  {
   "cell_type": "code",
   "execution_count": 12,
   "id": "70463ced-b034-4f42-bb88-5c257935582d",
   "metadata": {},
   "outputs": [
    {
     "data": {
      "text/plain": [
       "StockDate        object\n",
       "Close           float64\n",
       "Volume          float64\n",
       "organisation     object\n",
       "Industry_Tag     object\n",
       "Country          object\n",
       "dtype: object"
      ]
     },
     "execution_count": 12,
     "metadata": {},
     "output_type": "execute_result"
    }
   ],
   "source": [
    "stocks.dtypes"
   ]
  },
  {
   "cell_type": "code",
   "execution_count": 13,
   "id": "ebc1dbe4-c59d-4e04-a4ac-3b290983f86a",
   "metadata": {},
   "outputs": [],
   "source": [
    "merged_data_stocks = pd.merge(stocks, breaches, on='organisation', how='left')"
   ]
  },
  {
   "cell_type": "code",
   "execution_count": 14,
   "id": "1d3898c8-be13-41ef-94cf-1900cbe8ff7a",
   "metadata": {},
   "outputs": [],
   "source": [
    "merged_data_stocks = merged_data_stocks.dropna(subset=['organisation','records lost']) "
   ]
  },
  {
   "cell_type": "code",
   "execution_count": 15,
   "id": "6488ffc8-b028-4b35-83ef-4da3d03d3bc2",
   "metadata": {},
   "outputs": [],
   "source": [
    "distinct_values = merged_data_stocks['organisation'].unique()"
   ]
  },
  {
   "cell_type": "code",
   "execution_count": 16,
   "id": "17a8efc7-9fb0-48a5-a147-403e1d173526",
   "metadata": {},
   "outputs": [
    {
     "name": "stdout",
     "output_type": "stream",
     "text": [
      "['peloton' 'amazon' 'apple' 'target' 'spotify' 'starbucks' 'nvidia'\n",
      " 'adobe' 'toyota' 'uber' 'microsoft' 'ubisoft' 'nintendo' 'twitter']\n"
     ]
    }
   ],
   "source": [
    "print(distinct_values)"
   ]
  },
  {
   "cell_type": "code",
   "execution_count": 17,
   "id": "c3c94bb0-c64a-4dcd-af8e-5ffd6fd600cc",
   "metadata": {},
   "outputs": [
    {
     "name": "stdout",
     "output_type": "stream",
     "text": [
      "                        StockDate       Close       Volume organisation  \\\n",
      "0       2025-07-03 00:00:00-04:00    6.640000    4209664.0      peloton   \n",
      "3       2025-07-03 00:00:00-04:00  223.410004   29295154.0       amazon   \n",
      "4       2025-07-03 00:00:00-04:00  213.550003   34697317.0        apple   \n",
      "6       2025-07-03 00:00:00-04:00  104.059998    3535290.0       target   \n",
      "8       2025-07-03 00:00:00-04:00  725.049988    1071771.0      spotify   \n",
      "...                           ...         ...          ...          ...   \n",
      "318171  2000-01-03 00:00:00-05:00    2.437765   24232000.0    starbucks   \n",
      "318178  2000-01-03 00:00:00-05:00    4.468750  322352000.0       amazon   \n",
      "318181  2000-01-03 00:00:00-05:00    3.990652     134500.0     nintendo   \n",
      "318182  2000-01-03 00:00:00-05:00    3.990652     134500.0     nintendo   \n",
      "318188  2000-01-03 00:00:00-05:00   72.034958      21200.0       toyota   \n",
      "\n",
      "           Industry_Tag Country records lost year    BreachDate     sector  \\\n",
      "0               fitness     usa    3,000,000    2021   May 2021       tech   \n",
      "3            e-commerce     usa    5,000,000    2018   Nov 2018     retail   \n",
      "4            technology     usa      275,000    2013   Jul 2013  tech, web   \n",
      "6                retail     usa   70,000,000    2013   Dec 2013     retail   \n",
      "8                 music     usa      500,000    2020   Dec 2020        app   \n",
      "...                 ...     ...          ...     ...        ...        ...   \n",
      "318171  food & beverage     usa       97,000    2008   Nov 2008     retail   \n",
      "318178       e-commerce     usa    5,000,000    2018   Nov 2018     retail   \n",
      "318181           gaming   japan      300,000    2020   Apr 2020     gaming   \n",
      "318182           gaming   japan    4,000,000    2013   Jun 2013     gaming   \n",
      "318188       automotive   japan    3,100,000    2019   Apr 2019  transport   \n",
      "\n",
      "                method data sensitivity displayed records  \n",
      "0       poor security                 2               NaN  \n",
      "3                oops!                1               NaN  \n",
      "4               hacked                1               NaN  \n",
      "6               hacked                3               NaN  \n",
      "8                oops!                1               NaN  \n",
      "...                ...              ...               ...  \n",
      "318171    lost device                 2               NaN  \n",
      "318178           oops!                1               NaN  \n",
      "318181          hacked                3           300,000  \n",
      "318182          hacked                2               NaN  \n",
      "318188          hacked                2               NaN  \n",
      "\n",
      "[75221 rows x 13 columns]\n"
     ]
    }
   ],
   "source": [
    "print(merged_data_stocks)"
   ]
  },
  {
   "cell_type": "code",
   "execution_count": null,
   "id": "610b67ed-b9a5-4ca6-9e9b-f32536b19c14",
   "metadata": {},
   "outputs": [],
   "source": []
  }
 ],
 "metadata": {
  "kernelspec": {
   "display_name": "Python 3 (ipykernel)",
   "language": "python",
   "name": "python3"
  },
  "language_info": {
   "codemirror_mode": {
    "name": "ipython",
    "version": 3
   },
   "file_extension": ".py",
   "mimetype": "text/x-python",
   "name": "python",
   "nbconvert_exporter": "python",
   "pygments_lexer": "ipython3",
   "version": "3.13.2"
  }
 },
 "nbformat": 4,
 "nbformat_minor": 5
}
